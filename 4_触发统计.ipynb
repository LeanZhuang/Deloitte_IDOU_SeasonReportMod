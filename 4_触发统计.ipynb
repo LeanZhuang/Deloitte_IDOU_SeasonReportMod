{
 "cells": [
  {
   "cell_type": "code",
   "execution_count": 1,
   "outputs": [],
   "source": [
    "import pandas as pd\n",
    "\n",
    "# 导入后台22年数据，并按季度分成子集\n",
    "df_22 = pd.read_csv('/Users/zhuangyuhao/PycharmProjects/SeasonRepMod/整合季报代码模型/meta_code/2022指标触发结果.csv')\n",
    "df_22.drop_duplicates(inplace=True)\n",
    "\n",
    "df_Q1_sql = df_22[df_22.quarterly == 1]\n",
    "df_Q2_sql = df_22[df_22.quarterly == 2]\n",
    "df_Q3_sql = df_22[df_22.quarterly == 3]"
   ],
   "metadata": {
    "collapsed": false
   }
  },
  {
   "cell_type": "code",
   "execution_count": 2,
   "metadata": {
    "collapsed": true
   },
   "outputs": [],
   "source": [
    "# 导入程序计算数据\n",
    "df_Q1_py = pd.read_csv('/Users/zhuangyuhao/PycharmProjects/SeasonRepMod/整合季报代码模型/dfs/新数据22Q1_触发项目及触发等级_20230105.csv')\n",
    "df_Q2_py = pd.read_csv('/Users/zhuangyuhao/PycharmProjects/SeasonRepMod/整合季报代码模型/dfs/新数据22Q2_触发项目及触发等级_20230105.csv')\n",
    "df_Q3_py = pd.read_csv('/Users/zhuangyuhao/PycharmProjects/SeasonRepMod/整合季报代码模型/dfs/新数据22Q3_触发项目及触发等级_20230105.csv')\n",
    "df_Q1_py.drop_duplicates(inplace=True)\n",
    "df_Q2_py.drop_duplicates(inplace=True)\n",
    "df_Q3_py.drop_duplicates(inplace=True)"
   ]
  },
  {
   "cell_type": "code",
   "execution_count": 37,
   "outputs": [
    {
     "name": "stderr",
     "output_type": "stream",
     "text": [
      "/var/folders/21/r5tywv_91vz_8s1tgrs4qpjm0000gn/T/ipykernel_39554/3487521167.py:2: SettingWithCopyWarning: \n",
      "A value is trying to be set on a copy of a slice from a DataFrame\n",
      "\n",
      "See the caveats in the documentation: https://pandas.pydata.org/pandas-docs/stable/user_guide/indexing.html#returning-a-view-versus-a-copy\n",
      "  df_code.drop_duplicates(inplace=True)\n"
     ]
    }
   ],
   "source": [
    "df_code = df_Q3_py[['indicators', 'code']]  # 在这里改变程序季度输入\n",
    "df_code.drop_duplicates(inplace=True)"
   ],
   "metadata": {
    "collapsed": false
   }
  },
  {
   "cell_type": "code",
   "execution_count": 38,
   "outputs": [],
   "source": [
    "df_meta = pd.merge(df_Q3_sql, df_code, on='code', how='outer')  # 在这里改变后台季度输入\n",
    "df_meta.rename(columns={'finnal_level':'is_trigger'}, inplace=True)"
   ],
   "metadata": {
    "collapsed": false
   }
  },
  {
   "cell_type": "code",
   "execution_count": 39,
   "outputs": [],
   "source": [
    "data0 = df_Q3_py['indicators'][df_Q3_py.is_trigger == 0].value_counts()  #\n",
    "data1 = df_Q3_py['indicators'][df_Q3_py.is_trigger == 1].value_counts()  #\n",
    "data2 = df_Q3_py['indicators'][df_Q3_py.is_trigger == 2].value_counts()  #\n",
    "\n",
    "data_meta0 = df_meta['indicators'][df_meta.is_trigger == 0].value_counts()\n",
    "data_meta1 = df_meta['indicators'][df_meta.is_trigger == 1].value_counts()\n",
    "data_meta2 = df_meta['indicators'][df_meta.is_trigger == 2].value_counts()"
   ],
   "metadata": {
    "collapsed": false
   }
  },
  {
   "cell_type": "code",
   "execution_count": 40,
   "outputs": [],
   "source": [
    "dict0 = {'indicators':data0.index, 'count_0':data0.values}\n",
    "dict1 = {'indicators':data1.index, 'count_1':data1.values}\n",
    "dict2 = {'indicators':data2.index, 'count_2':data2.values}\n",
    "df0 = pd.DataFrame(dict0)\n",
    "df1 = pd.DataFrame(dict1)\n",
    "df2 = pd.DataFrame(dict2)\n",
    "\n",
    "dict_meta0 = {'indicators':data_meta0.index, '后台_count_0':data_meta0.values}\n",
    "dict_meta1 = {'indicators':data_meta1.index, '后台_count_1':data_meta1.values}\n",
    "dict_meta2 = {'indicators':data_meta2.index, '后台_count_2':data_meta2.values}\n",
    "df_meta0 = pd.DataFrame(dict_meta0)\n",
    "df_meta1 = pd.DataFrame(dict_meta1)\n",
    "df_meta2 = pd.DataFrame(dict_meta2)"
   ],
   "metadata": {
    "collapsed": false
   }
  },
  {
   "cell_type": "code",
   "execution_count": 41,
   "outputs": [],
   "source": [
    "df = pd.merge(df0, df1, on='indicators', how='outer')\n",
    "df = pd.merge(df, df2, on='indicators', how='outer')\n",
    "df_sorted = df.sort_index(axis=0, ascending=True)\n",
    "df_sorted.fillna(0, inplace=True)\n",
    "df_sorted['total'] = df_sorted['count_0'] + df_sorted['count_1'] + df_sorted['count_2']\n",
    "\n",
    "df_meta = pd.merge(df_meta0, df_meta1, on='indicators', how='outer')\n",
    "df_meta = pd.merge(df_meta, df_meta2, on='indicators', how='outer')\n",
    "df_meta_sorted = df_meta.sort_index(axis=0, ascending=True)\n",
    "df_meta_sorted.fillna(0, inplace=True)\n",
    "df_meta_sorted['后台_total'] = df_meta_sorted['后台_count_0'] + df_meta_sorted['后台_count_1'] + df_meta_sorted['后台_count_2']"
   ],
   "metadata": {
    "collapsed": false
   }
  },
  {
   "cell_type": "code",
   "execution_count": 42,
   "outputs": [
    {
     "data": {
      "text/plain": "                       indicators  count_0  count_1  count_2    total  \\\n0            QW_OPERATINGCASHFLOW    12786    180.0    740.0  13706.0   \n1      QW_RANGE_OPERATINGCASHFLOW    12457    855.0    394.0  13706.0   \n2         QW_REVENUE_GROWTH_DELTA    10566    112.0    134.0  10812.0   \n3      QW_GROSSPROFITMARGIN_DELTA    10452    141.0    219.0  10812.0   \n4   QW_RANGE_REVENUE_GROWTH_DELTA    10321    236.0    255.0  10812.0   \n..                            ...      ...      ...      ...      ...   \n90           QW_MONEY_RATIO_DELTA     4667    525.0    214.0   5406.0   \n91      QW_RECEIVABLE_RATIO_DELTA     4663    528.0    215.0   5406.0   \n92           QW_STOCK_RATIO_DELTA     4655    522.0    229.0   5406.0   \n93                   QW_ROE_DELTA     4654    300.0    452.0   5406.0   \n94            QW_CASH_RATIO_DELTA     4272      0.0   2581.0   6853.0   \n\n    后台_count_0  后台_count_1  后台_count_2  后台_total  \n0       9408.0         0.0      1252.0   10660.0  \n1       9678.0         0.0       982.0   10660.0  \n2       9068.0      1592.0         0.0   10660.0  \n3       9148.0      1512.0         0.0   10660.0  \n4       9312.0      1348.0         0.0   10660.0  \n..         ...         ...         ...       ...  \n90      4673.0       657.0         0.0    5330.0  \n91      4633.0       697.0         0.0    5330.0  \n92      4600.0       730.0         0.0    5330.0  \n93      4579.0       751.0         0.0    5330.0  \n94      4440.0       890.0         0.0    5330.0  \n\n[95 rows x 9 columns]",
      "text/html": "<div>\n<style scoped>\n    .dataframe tbody tr th:only-of-type {\n        vertical-align: middle;\n    }\n\n    .dataframe tbody tr th {\n        vertical-align: top;\n    }\n\n    .dataframe thead th {\n        text-align: right;\n    }\n</style>\n<table border=\"1\" class=\"dataframe\">\n  <thead>\n    <tr style=\"text-align: right;\">\n      <th></th>\n      <th>indicators</th>\n      <th>count_0</th>\n      <th>count_1</th>\n      <th>count_2</th>\n      <th>total</th>\n      <th>后台_count_0</th>\n      <th>后台_count_1</th>\n      <th>后台_count_2</th>\n      <th>后台_total</th>\n    </tr>\n  </thead>\n  <tbody>\n    <tr>\n      <th>0</th>\n      <td>QW_OPERATINGCASHFLOW</td>\n      <td>12786</td>\n      <td>180.0</td>\n      <td>740.0</td>\n      <td>13706.0</td>\n      <td>9408.0</td>\n      <td>0.0</td>\n      <td>1252.0</td>\n      <td>10660.0</td>\n    </tr>\n    <tr>\n      <th>1</th>\n      <td>QW_RANGE_OPERATINGCASHFLOW</td>\n      <td>12457</td>\n      <td>855.0</td>\n      <td>394.0</td>\n      <td>13706.0</td>\n      <td>9678.0</td>\n      <td>0.0</td>\n      <td>982.0</td>\n      <td>10660.0</td>\n    </tr>\n    <tr>\n      <th>2</th>\n      <td>QW_REVENUE_GROWTH_DELTA</td>\n      <td>10566</td>\n      <td>112.0</td>\n      <td>134.0</td>\n      <td>10812.0</td>\n      <td>9068.0</td>\n      <td>1592.0</td>\n      <td>0.0</td>\n      <td>10660.0</td>\n    </tr>\n    <tr>\n      <th>3</th>\n      <td>QW_GROSSPROFITMARGIN_DELTA</td>\n      <td>10452</td>\n      <td>141.0</td>\n      <td>219.0</td>\n      <td>10812.0</td>\n      <td>9148.0</td>\n      <td>1512.0</td>\n      <td>0.0</td>\n      <td>10660.0</td>\n    </tr>\n    <tr>\n      <th>4</th>\n      <td>QW_RANGE_REVENUE_GROWTH_DELTA</td>\n      <td>10321</td>\n      <td>236.0</td>\n      <td>255.0</td>\n      <td>10812.0</td>\n      <td>9312.0</td>\n      <td>1348.0</td>\n      <td>0.0</td>\n      <td>10660.0</td>\n    </tr>\n    <tr>\n      <th>...</th>\n      <td>...</td>\n      <td>...</td>\n      <td>...</td>\n      <td>...</td>\n      <td>...</td>\n      <td>...</td>\n      <td>...</td>\n      <td>...</td>\n      <td>...</td>\n    </tr>\n    <tr>\n      <th>90</th>\n      <td>QW_MONEY_RATIO_DELTA</td>\n      <td>4667</td>\n      <td>525.0</td>\n      <td>214.0</td>\n      <td>5406.0</td>\n      <td>4673.0</td>\n      <td>657.0</td>\n      <td>0.0</td>\n      <td>5330.0</td>\n    </tr>\n    <tr>\n      <th>91</th>\n      <td>QW_RECEIVABLE_RATIO_DELTA</td>\n      <td>4663</td>\n      <td>528.0</td>\n      <td>215.0</td>\n      <td>5406.0</td>\n      <td>4633.0</td>\n      <td>697.0</td>\n      <td>0.0</td>\n      <td>5330.0</td>\n    </tr>\n    <tr>\n      <th>92</th>\n      <td>QW_STOCK_RATIO_DELTA</td>\n      <td>4655</td>\n      <td>522.0</td>\n      <td>229.0</td>\n      <td>5406.0</td>\n      <td>4600.0</td>\n      <td>730.0</td>\n      <td>0.0</td>\n      <td>5330.0</td>\n    </tr>\n    <tr>\n      <th>93</th>\n      <td>QW_ROE_DELTA</td>\n      <td>4654</td>\n      <td>300.0</td>\n      <td>452.0</td>\n      <td>5406.0</td>\n      <td>4579.0</td>\n      <td>751.0</td>\n      <td>0.0</td>\n      <td>5330.0</td>\n    </tr>\n    <tr>\n      <th>94</th>\n      <td>QW_CASH_RATIO_DELTA</td>\n      <td>4272</td>\n      <td>0.0</td>\n      <td>2581.0</td>\n      <td>6853.0</td>\n      <td>4440.0</td>\n      <td>890.0</td>\n      <td>0.0</td>\n      <td>5330.0</td>\n    </tr>\n  </tbody>\n</table>\n<p>95 rows × 9 columns</p>\n</div>"
     },
     "execution_count": 42,
     "metadata": {},
     "output_type": "execute_result"
    }
   ],
   "source": [
    "df_total = pd.merge(df_sorted, df_meta_sorted, on='indicators', how='outer')\n",
    "df_total"
   ],
   "metadata": {
    "collapsed": false
   }
  },
  {
   "cell_type": "code",
   "execution_count": 43,
   "outputs": [],
   "source": [
    "df_total.to_excel('/Users/zhuangyuhao/PycharmProjects/SeasonRepMod/整合季报代码模型/meta_output/22Q3_触发统计信息_230106.xlsx')"
   ],
   "metadata": {
    "collapsed": false
   }
  },
  {
   "cell_type": "markdown",
   "source": [
    "---"
   ],
   "metadata": {
    "collapsed": false
   }
  },
  {
   "cell_type": "code",
   "execution_count": 12,
   "outputs": [
    {
     "name": "stdout",
     "output_type": "stream",
     "text": [
      "/Users\n"
     ]
    }
   ],
   "source": [
    "# -*- coding: utf-8 -*-\n",
    "import pandas as pd\n",
    "import os\n",
    "\n",
    "# 比对阈值差别\n",
    "os.chdir('..')\n",
    "print(os.getcwd())\n",
    "path_dfs = r\"dfs/\"  # 在此更改数据输入文件夹\n",
    "path_meta = r\"meta_code/\"  # 在此更改meta_code输入文件夹\n",
    "\n",
    "# 导入两份需要比对的数据\n",
    "\n",
    "cmpdata = df_Q3_py\n",
    "sqldata = df_Q3_sql"
   ],
   "metadata": {
    "collapsed": false
   }
  },
  {
   "cell_type": "code",
   "execution_count": 13,
   "outputs": [
    {
     "name": "stderr",
     "output_type": "stream",
     "text": [
      "/var/folders/21/r5tywv_91vz_8s1tgrs4qpjm0000gn/T/ipykernel_40070/2236816620.py:1: SettingWithCopyWarning: \n",
      "A value is trying to be set on a copy of a slice from a DataFrame\n",
      "\n",
      "See the caveats in the documentation: https://pandas.pydata.org/pandas-docs/stable/user_guide/indexing.html#returning-a-view-versus-a-copy\n",
      "  sqldata.rename(columns={'quarterly':'quarter',\n"
     ]
    }
   ],
   "source": [
    "sqldata.rename(columns={'quarterly':'quarter',\n",
    "                        'finnal_level':'is_trigger'}, inplace=True)"
   ],
   "metadata": {
    "collapsed": false
   }
  },
  {
   "cell_type": "code",
   "execution_count": 14,
   "outputs": [],
   "source": [
    "# cmpdata=cmpdata.drop(labels=['Unnamed: 0'], axis=1)\n",
    "cmpdata = cmpdata.drop_duplicates()\n",
    "# 将两份数据匹配\n",
    "result = pd.merge(cmpdata, sqldata, how='inner', on=[\"entity_name\", \"year\", \"quarter\", \"code\"])\n",
    "\n",
    "result = result[['entity_name', 'stock_code', 'industry', 'year', 'quarter', 'indicators', 'code', 'finnal_value', 'general_trigger', 'high_trigger', 'is_trigger_origin', '指标异常值处理', '指标异常值处理结果', 'is_trigger_x', 'is_trigger_y']]\n",
    "result.rename({\"is_trigger_x\": \"is_trigger_产品\", \"is_trigger_y\": \"is_trigger_开发\"}, axis=1, inplace=True)\n",
    "\n",
    "result['is_diff'] = result.apply(lambda x: 1 if x['is_trigger_产品'] != x['is_trigger_开发'] else 0, axis=1)\n",
    "\n",
    "result.to_excel('/Users/zhuangyuhao/PycharmProjects/SeasonRepMod/整合季报代码模型/meta_output/22Q3_前后台触发对比结果_230109.xlsx', index=False)"
   ],
   "metadata": {
    "collapsed": false
   }
  },
  {
   "cell_type": "code",
   "execution_count": null,
   "outputs": [],
   "source": [],
   "metadata": {
    "collapsed": false
   }
  }
 ],
 "metadata": {
  "kernelspec": {
   "display_name": "Python 3",
   "language": "python",
   "name": "python3"
  },
  "language_info": {
   "codemirror_mode": {
    "name": "ipython",
    "version": 2
   },
   "file_extension": ".py",
   "mimetype": "text/x-python",
   "name": "python",
   "nbconvert_exporter": "python",
   "pygments_lexer": "ipython2",
   "version": "2.7.6"
  }
 },
 "nbformat": 4,
 "nbformat_minor": 0
}
