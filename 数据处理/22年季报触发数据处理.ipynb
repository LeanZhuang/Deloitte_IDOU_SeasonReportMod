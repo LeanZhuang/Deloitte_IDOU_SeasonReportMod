{
 "cells": [
  {
   "cell_type": "code",
   "execution_count": 8,
   "metadata": {
    "collapsed": true
   },
   "outputs": [
    {
     "data": {
      "text/plain": "             entity_name          NAME            code  year  quarterly  \\\n0             万科企业股份有限公司      营业收入大幅变动  Q1_APR_001_O01  2022          1   \n1             万科企业股份有限公司    营业收入连续三年下降  Q1_APR_001_O02  2022          1   \n2             万科企业股份有限公司      营业收入大幅变动  Q1_APR_002_O01  2022          1   \n3             万科企业股份有限公司      营业收入大幅变动  Q1_APR_002_O02  2022          1   \n4             万科企业股份有限公司     业绩实现比大幅变动  Q1_APR_003_O01  2022          1   \n...                  ...           ...             ...   ...        ...   \n1473135  北京易华录信息技术股份有限公司    期间费用占比大幅上升  Q3_OID_003_O01  2022          3   \n1473136  北京易华录信息技术股份有限公司    期间费用占比大幅上升  Q3_OID_003_O02  2022          3   \n1473137  北京易华录信息技术股份有限公司  期间费用占比连续三年上升  Q3_OID_003_O03  2022          3   \n1473138  北京易华录信息技术股份有限公司  单季期间费用占比大幅上升  Q3_OID_003_Q01  2022          3   \n1473139  北京易华录信息技术股份有限公司  单季期间费用占比大幅上升  Q3_OID_003_Q02  2022          3   \n\n         finnal_level  \n0                   0  \n1                   0  \n2                   0  \n3                   0  \n4                   0  \n...               ...  \n1473135             0  \n1473136             1  \n1473137             0  \n1473138             0  \n1473139             0  \n\n[1473140 rows x 6 columns]",
      "text/html": "<div>\n<style scoped>\n    .dataframe tbody tr th:only-of-type {\n        vertical-align: middle;\n    }\n\n    .dataframe tbody tr th {\n        vertical-align: top;\n    }\n\n    .dataframe thead th {\n        text-align: right;\n    }\n</style>\n<table border=\"1\" class=\"dataframe\">\n  <thead>\n    <tr style=\"text-align: right;\">\n      <th></th>\n      <th>entity_name</th>\n      <th>NAME</th>\n      <th>code</th>\n      <th>year</th>\n      <th>quarterly</th>\n      <th>finnal_level</th>\n    </tr>\n  </thead>\n  <tbody>\n    <tr>\n      <th>0</th>\n      <td>万科企业股份有限公司</td>\n      <td>营业收入大幅变动</td>\n      <td>Q1_APR_001_O01</td>\n      <td>2022</td>\n      <td>1</td>\n      <td>0</td>\n    </tr>\n    <tr>\n      <th>1</th>\n      <td>万科企业股份有限公司</td>\n      <td>营业收入连续三年下降</td>\n      <td>Q1_APR_001_O02</td>\n      <td>2022</td>\n      <td>1</td>\n      <td>0</td>\n    </tr>\n    <tr>\n      <th>2</th>\n      <td>万科企业股份有限公司</td>\n      <td>营业收入大幅变动</td>\n      <td>Q1_APR_002_O01</td>\n      <td>2022</td>\n      <td>1</td>\n      <td>0</td>\n    </tr>\n    <tr>\n      <th>3</th>\n      <td>万科企业股份有限公司</td>\n      <td>营业收入大幅变动</td>\n      <td>Q1_APR_002_O02</td>\n      <td>2022</td>\n      <td>1</td>\n      <td>0</td>\n    </tr>\n    <tr>\n      <th>4</th>\n      <td>万科企业股份有限公司</td>\n      <td>业绩实现比大幅变动</td>\n      <td>Q1_APR_003_O01</td>\n      <td>2022</td>\n      <td>1</td>\n      <td>0</td>\n    </tr>\n    <tr>\n      <th>...</th>\n      <td>...</td>\n      <td>...</td>\n      <td>...</td>\n      <td>...</td>\n      <td>...</td>\n      <td>...</td>\n    </tr>\n    <tr>\n      <th>1473135</th>\n      <td>北京易华录信息技术股份有限公司</td>\n      <td>期间费用占比大幅上升</td>\n      <td>Q3_OID_003_O01</td>\n      <td>2022</td>\n      <td>3</td>\n      <td>0</td>\n    </tr>\n    <tr>\n      <th>1473136</th>\n      <td>北京易华录信息技术股份有限公司</td>\n      <td>期间费用占比大幅上升</td>\n      <td>Q3_OID_003_O02</td>\n      <td>2022</td>\n      <td>3</td>\n      <td>1</td>\n    </tr>\n    <tr>\n      <th>1473137</th>\n      <td>北京易华录信息技术股份有限公司</td>\n      <td>期间费用占比连续三年上升</td>\n      <td>Q3_OID_003_O03</td>\n      <td>2022</td>\n      <td>3</td>\n      <td>0</td>\n    </tr>\n    <tr>\n      <th>1473138</th>\n      <td>北京易华录信息技术股份有限公司</td>\n      <td>单季期间费用占比大幅上升</td>\n      <td>Q3_OID_003_Q01</td>\n      <td>2022</td>\n      <td>3</td>\n      <td>0</td>\n    </tr>\n    <tr>\n      <th>1473139</th>\n      <td>北京易华录信息技术股份有限公司</td>\n      <td>单季期间费用占比大幅上升</td>\n      <td>Q3_OID_003_Q02</td>\n      <td>2022</td>\n      <td>3</td>\n      <td>0</td>\n    </tr>\n  </tbody>\n</table>\n<p>1473140 rows × 6 columns</p>\n</div>"
     },
     "execution_count": 8,
     "metadata": {},
     "output_type": "execute_result"
    }
   ],
   "source": [
    "import pandas as pd\n",
    "\n",
    "df = pd.read_csv('/Users/zhuangyuhao/PycharmProjects/SeasonRepMod/整合季报代码模型/meta_code/2022指标触发结果.csv')\n",
    "df"
   ]
  },
  {
   "cell_type": "code",
   "execution_count": 9,
   "outputs": [
    {
     "data": {
      "text/plain": "         entity_name           NAME            code  year  quarterly  \\\n0         万科企业股份有限公司       营业收入大幅变动  Q1_APR_001_O01  2022          1   \n1         万科企业股份有限公司     营业收入连续三年下降  Q1_APR_001_O02  2022          1   \n2         万科企业股份有限公司       营业收入大幅变动  Q1_APR_002_O01  2022          1   \n3         万科企业股份有限公司       营业收入大幅变动  Q1_APR_002_O02  2022          1   \n4         万科企业股份有限公司      业绩实现比大幅变动  Q1_APR_003_O01  2022          1   \n...              ...            ...             ...   ...        ...   \n878498  山高环能集团股份有限公司    应收账款周转率大幅降低  Q1_OID_002_O02  2022          1   \n878512  山高环能集团股份有限公司  应收账款周转率连续三年下降  Q1_OID_002_O03  2022          1   \n878521  山高环能集团股份有限公司     期间费用占比大幅上升  Q1_OID_003_O01  2022          1   \n878529  山高环能集团股份有限公司     期间费用占比大幅上升  Q1_OID_003_O02  2022          1   \n878545  山高环能集团股份有限公司   期间费用占比连续三年上升  Q1_OID_003_O03  2022          1   \n\n        finnal_level  \n0                  0  \n1                  0  \n2                  0  \n3                  0  \n4                  0  \n...              ...  \n878498             0  \n878512             0  \n878521             0  \n878529             0  \n878545             0  \n\n[308568 rows x 6 columns]",
      "text/html": "<div>\n<style scoped>\n    .dataframe tbody tr th:only-of-type {\n        vertical-align: middle;\n    }\n\n    .dataframe tbody tr th {\n        vertical-align: top;\n    }\n\n    .dataframe thead th {\n        text-align: right;\n    }\n</style>\n<table border=\"1\" class=\"dataframe\">\n  <thead>\n    <tr style=\"text-align: right;\">\n      <th></th>\n      <th>entity_name</th>\n      <th>NAME</th>\n      <th>code</th>\n      <th>year</th>\n      <th>quarterly</th>\n      <th>finnal_level</th>\n    </tr>\n  </thead>\n  <tbody>\n    <tr>\n      <th>0</th>\n      <td>万科企业股份有限公司</td>\n      <td>营业收入大幅变动</td>\n      <td>Q1_APR_001_O01</td>\n      <td>2022</td>\n      <td>1</td>\n      <td>0</td>\n    </tr>\n    <tr>\n      <th>1</th>\n      <td>万科企业股份有限公司</td>\n      <td>营业收入连续三年下降</td>\n      <td>Q1_APR_001_O02</td>\n      <td>2022</td>\n      <td>1</td>\n      <td>0</td>\n    </tr>\n    <tr>\n      <th>2</th>\n      <td>万科企业股份有限公司</td>\n      <td>营业收入大幅变动</td>\n      <td>Q1_APR_002_O01</td>\n      <td>2022</td>\n      <td>1</td>\n      <td>0</td>\n    </tr>\n    <tr>\n      <th>3</th>\n      <td>万科企业股份有限公司</td>\n      <td>营业收入大幅变动</td>\n      <td>Q1_APR_002_O02</td>\n      <td>2022</td>\n      <td>1</td>\n      <td>0</td>\n    </tr>\n    <tr>\n      <th>4</th>\n      <td>万科企业股份有限公司</td>\n      <td>业绩实现比大幅变动</td>\n      <td>Q1_APR_003_O01</td>\n      <td>2022</td>\n      <td>1</td>\n      <td>0</td>\n    </tr>\n    <tr>\n      <th>...</th>\n      <td>...</td>\n      <td>...</td>\n      <td>...</td>\n      <td>...</td>\n      <td>...</td>\n      <td>...</td>\n    </tr>\n    <tr>\n      <th>878498</th>\n      <td>山高环能集团股份有限公司</td>\n      <td>应收账款周转率大幅降低</td>\n      <td>Q1_OID_002_O02</td>\n      <td>2022</td>\n      <td>1</td>\n      <td>0</td>\n    </tr>\n    <tr>\n      <th>878512</th>\n      <td>山高环能集团股份有限公司</td>\n      <td>应收账款周转率连续三年下降</td>\n      <td>Q1_OID_002_O03</td>\n      <td>2022</td>\n      <td>1</td>\n      <td>0</td>\n    </tr>\n    <tr>\n      <th>878521</th>\n      <td>山高环能集团股份有限公司</td>\n      <td>期间费用占比大幅上升</td>\n      <td>Q1_OID_003_O01</td>\n      <td>2022</td>\n      <td>1</td>\n      <td>0</td>\n    </tr>\n    <tr>\n      <th>878529</th>\n      <td>山高环能集团股份有限公司</td>\n      <td>期间费用占比大幅上升</td>\n      <td>Q1_OID_003_O02</td>\n      <td>2022</td>\n      <td>1</td>\n      <td>0</td>\n    </tr>\n    <tr>\n      <th>878545</th>\n      <td>山高环能集团股份有限公司</td>\n      <td>期间费用占比连续三年上升</td>\n      <td>Q1_OID_003_O03</td>\n      <td>2022</td>\n      <td>1</td>\n      <td>0</td>\n    </tr>\n  </tbody>\n</table>\n<p>308568 rows × 6 columns</p>\n</div>"
     },
     "execution_count": 9,
     "metadata": {},
     "output_type": "execute_result"
    }
   ],
   "source": [
    "df_Q1 = df[df.quarterly == 1]\n",
    "df_Q1"
   ],
   "metadata": {
    "collapsed": false
   }
  },
  {
   "cell_type": "code",
   "execution_count": 10,
   "outputs": [
    {
     "data": {
      "text/plain": "             entity_name            NAME            code  year  quarterly  \\\n308430  深圳市铭利达精密技术股份有限公司        营业收入大幅变动  Q2_APR_001_O01  2022          2   \n308431  深圳市铭利达精密技术股份有限公司      营业收入连续三年下降  Q2_APR_001_O02  2022          2   \n308432  深圳市铭利达精密技术股份有限公司        营业收入大幅变动  Q2_APR_002_O01  2022          2   \n308433  深圳市铭利达精密技术股份有限公司        营业收入大幅变动  Q2_APR_002_O02  2022          2   \n308434  深圳市铭利达精密技术股份有限公司      单季营业收入大幅变动  Q2_APR_001_Q01  2022          2   \n...                  ...             ...             ...   ...        ...   \n907519        上海贵酒股份有限公司  单季期间费用占比连续三年上升  Q2_OID_003_Q03  2022          2   \n907520   中微半导体(深圳)股份有限公司      总资产周转率大幅降低  Q2_OID_004_O01  2022          2   \n907521        上海贵酒股份有限公司      总资产周转率大幅降低  Q2_OID_004_O01  2022          2   \n907522        上海贵酒股份有限公司      总资产周转率大幅降低  Q2_OID_004_O02  2022          2   \n907523   中微半导体(深圳)股份有限公司      总资产周转率大幅降低  Q2_OID_004_O02  2022          2   \n\n        finnal_level  \n308430             0  \n308431             0  \n308432             0  \n308433             0  \n308434             0  \n...              ...  \n907519             0  \n907520             0  \n907521             0  \n907522             0  \n907523             0  \n\n[598956 rows x 6 columns]",
      "text/html": "<div>\n<style scoped>\n    .dataframe tbody tr th:only-of-type {\n        vertical-align: middle;\n    }\n\n    .dataframe tbody tr th {\n        vertical-align: top;\n    }\n\n    .dataframe thead th {\n        text-align: right;\n    }\n</style>\n<table border=\"1\" class=\"dataframe\">\n  <thead>\n    <tr style=\"text-align: right;\">\n      <th></th>\n      <th>entity_name</th>\n      <th>NAME</th>\n      <th>code</th>\n      <th>year</th>\n      <th>quarterly</th>\n      <th>finnal_level</th>\n    </tr>\n  </thead>\n  <tbody>\n    <tr>\n      <th>308430</th>\n      <td>深圳市铭利达精密技术股份有限公司</td>\n      <td>营业收入大幅变动</td>\n      <td>Q2_APR_001_O01</td>\n      <td>2022</td>\n      <td>2</td>\n      <td>0</td>\n    </tr>\n    <tr>\n      <th>308431</th>\n      <td>深圳市铭利达精密技术股份有限公司</td>\n      <td>营业收入连续三年下降</td>\n      <td>Q2_APR_001_O02</td>\n      <td>2022</td>\n      <td>2</td>\n      <td>0</td>\n    </tr>\n    <tr>\n      <th>308432</th>\n      <td>深圳市铭利达精密技术股份有限公司</td>\n      <td>营业收入大幅变动</td>\n      <td>Q2_APR_002_O01</td>\n      <td>2022</td>\n      <td>2</td>\n      <td>0</td>\n    </tr>\n    <tr>\n      <th>308433</th>\n      <td>深圳市铭利达精密技术股份有限公司</td>\n      <td>营业收入大幅变动</td>\n      <td>Q2_APR_002_O02</td>\n      <td>2022</td>\n      <td>2</td>\n      <td>0</td>\n    </tr>\n    <tr>\n      <th>308434</th>\n      <td>深圳市铭利达精密技术股份有限公司</td>\n      <td>单季营业收入大幅变动</td>\n      <td>Q2_APR_001_Q01</td>\n      <td>2022</td>\n      <td>2</td>\n      <td>0</td>\n    </tr>\n    <tr>\n      <th>...</th>\n      <td>...</td>\n      <td>...</td>\n      <td>...</td>\n      <td>...</td>\n      <td>...</td>\n      <td>...</td>\n    </tr>\n    <tr>\n      <th>907519</th>\n      <td>上海贵酒股份有限公司</td>\n      <td>单季期间费用占比连续三年上升</td>\n      <td>Q2_OID_003_Q03</td>\n      <td>2022</td>\n      <td>2</td>\n      <td>0</td>\n    </tr>\n    <tr>\n      <th>907520</th>\n      <td>中微半导体(深圳)股份有限公司</td>\n      <td>总资产周转率大幅降低</td>\n      <td>Q2_OID_004_O01</td>\n      <td>2022</td>\n      <td>2</td>\n      <td>0</td>\n    </tr>\n    <tr>\n      <th>907521</th>\n      <td>上海贵酒股份有限公司</td>\n      <td>总资产周转率大幅降低</td>\n      <td>Q2_OID_004_O01</td>\n      <td>2022</td>\n      <td>2</td>\n      <td>0</td>\n    </tr>\n    <tr>\n      <th>907522</th>\n      <td>上海贵酒股份有限公司</td>\n      <td>总资产周转率大幅降低</td>\n      <td>Q2_OID_004_O02</td>\n      <td>2022</td>\n      <td>2</td>\n      <td>0</td>\n    </tr>\n    <tr>\n      <th>907523</th>\n      <td>中微半导体(深圳)股份有限公司</td>\n      <td>总资产周转率大幅降低</td>\n      <td>Q2_OID_004_O02</td>\n      <td>2022</td>\n      <td>2</td>\n      <td>0</td>\n    </tr>\n  </tbody>\n</table>\n<p>598956 rows × 6 columns</p>\n</div>"
     },
     "execution_count": 10,
     "metadata": {},
     "output_type": "execute_result"
    }
   ],
   "source": [
    "df_Q2 = df[df.quarterly == 2]\n",
    "df_Q2"
   ],
   "metadata": {
    "collapsed": false
   }
  },
  {
   "cell_type": "code",
   "execution_count": 11,
   "outputs": [
    {
     "data": {
      "text/plain": "             entity_name          NAME            code  year  quarterly  \\\n907524        中国天辰工程有限公司      营业收入大幅变动  Q3_APR_001_O01  2022          3   \n907525        中国天辰工程有限公司    营业收入连续三年下降  Q3_APR_001_O02  2022          3   \n907526        中国天辰工程有限公司      营业收入大幅变动  Q3_APR_002_O01  2022          3   \n907527        中国天辰工程有限公司      营业收入大幅变动  Q3_APR_002_O02  2022          3   \n907528        中国西电集团有限公司      营业收入大幅变动  Q3_APR_001_O01  2022          3   \n...                  ...           ...             ...   ...        ...   \n1473135  北京易华录信息技术股份有限公司    期间费用占比大幅上升  Q3_OID_003_O01  2022          3   \n1473136  北京易华录信息技术股份有限公司    期间费用占比大幅上升  Q3_OID_003_O02  2022          3   \n1473137  北京易华录信息技术股份有限公司  期间费用占比连续三年上升  Q3_OID_003_O03  2022          3   \n1473138  北京易华录信息技术股份有限公司  单季期间费用占比大幅上升  Q3_OID_003_Q01  2022          3   \n1473139  北京易华录信息技术股份有限公司  单季期间费用占比大幅上升  Q3_OID_003_Q02  2022          3   \n\n         finnal_level  \n907524              0  \n907525              0  \n907526              0  \n907527              0  \n907528              0  \n...               ...  \n1473135             0  \n1473136             1  \n1473137             0  \n1473138             0  \n1473139             0  \n\n[565616 rows x 6 columns]",
      "text/html": "<div>\n<style scoped>\n    .dataframe tbody tr th:only-of-type {\n        vertical-align: middle;\n    }\n\n    .dataframe tbody tr th {\n        vertical-align: top;\n    }\n\n    .dataframe thead th {\n        text-align: right;\n    }\n</style>\n<table border=\"1\" class=\"dataframe\">\n  <thead>\n    <tr style=\"text-align: right;\">\n      <th></th>\n      <th>entity_name</th>\n      <th>NAME</th>\n      <th>code</th>\n      <th>year</th>\n      <th>quarterly</th>\n      <th>finnal_level</th>\n    </tr>\n  </thead>\n  <tbody>\n    <tr>\n      <th>907524</th>\n      <td>中国天辰工程有限公司</td>\n      <td>营业收入大幅变动</td>\n      <td>Q3_APR_001_O01</td>\n      <td>2022</td>\n      <td>3</td>\n      <td>0</td>\n    </tr>\n    <tr>\n      <th>907525</th>\n      <td>中国天辰工程有限公司</td>\n      <td>营业收入连续三年下降</td>\n      <td>Q3_APR_001_O02</td>\n      <td>2022</td>\n      <td>3</td>\n      <td>0</td>\n    </tr>\n    <tr>\n      <th>907526</th>\n      <td>中国天辰工程有限公司</td>\n      <td>营业收入大幅变动</td>\n      <td>Q3_APR_002_O01</td>\n      <td>2022</td>\n      <td>3</td>\n      <td>0</td>\n    </tr>\n    <tr>\n      <th>907527</th>\n      <td>中国天辰工程有限公司</td>\n      <td>营业收入大幅变动</td>\n      <td>Q3_APR_002_O02</td>\n      <td>2022</td>\n      <td>3</td>\n      <td>0</td>\n    </tr>\n    <tr>\n      <th>907528</th>\n      <td>中国西电集团有限公司</td>\n      <td>营业收入大幅变动</td>\n      <td>Q3_APR_001_O01</td>\n      <td>2022</td>\n      <td>3</td>\n      <td>0</td>\n    </tr>\n    <tr>\n      <th>...</th>\n      <td>...</td>\n      <td>...</td>\n      <td>...</td>\n      <td>...</td>\n      <td>...</td>\n      <td>...</td>\n    </tr>\n    <tr>\n      <th>1473135</th>\n      <td>北京易华录信息技术股份有限公司</td>\n      <td>期间费用占比大幅上升</td>\n      <td>Q3_OID_003_O01</td>\n      <td>2022</td>\n      <td>3</td>\n      <td>0</td>\n    </tr>\n    <tr>\n      <th>1473136</th>\n      <td>北京易华录信息技术股份有限公司</td>\n      <td>期间费用占比大幅上升</td>\n      <td>Q3_OID_003_O02</td>\n      <td>2022</td>\n      <td>3</td>\n      <td>1</td>\n    </tr>\n    <tr>\n      <th>1473137</th>\n      <td>北京易华录信息技术股份有限公司</td>\n      <td>期间费用占比连续三年上升</td>\n      <td>Q3_OID_003_O03</td>\n      <td>2022</td>\n      <td>3</td>\n      <td>0</td>\n    </tr>\n    <tr>\n      <th>1473138</th>\n      <td>北京易华录信息技术股份有限公司</td>\n      <td>单季期间费用占比大幅上升</td>\n      <td>Q3_OID_003_Q01</td>\n      <td>2022</td>\n      <td>3</td>\n      <td>0</td>\n    </tr>\n    <tr>\n      <th>1473139</th>\n      <td>北京易华录信息技术股份有限公司</td>\n      <td>单季期间费用占比大幅上升</td>\n      <td>Q3_OID_003_Q02</td>\n      <td>2022</td>\n      <td>3</td>\n      <td>0</td>\n    </tr>\n  </tbody>\n</table>\n<p>565616 rows × 6 columns</p>\n</div>"
     },
     "execution_count": 11,
     "metadata": {},
     "output_type": "execute_result"
    }
   ],
   "source": [
    "df_Q3 = df[df.quarterly == 3]\n",
    "df_Q3"
   ],
   "metadata": {
    "collapsed": false
   }
  },
  {
   "cell_type": "code",
   "execution_count": null,
   "outputs": [],
   "source": [],
   "metadata": {
    "collapsed": false
   }
  }
 ],
 "metadata": {
  "kernelspec": {
   "display_name": "Python 3",
   "language": "python",
   "name": "python3"
  },
  "language_info": {
   "codemirror_mode": {
    "name": "ipython",
    "version": 2
   },
   "file_extension": ".py",
   "mimetype": "text/x-python",
   "name": "python",
   "nbconvert_exporter": "python",
   "pygments_lexer": "ipython2",
   "version": "2.7.6"
  }
 },
 "nbformat": 4,
 "nbformat_minor": 0
}
