{
 "cells": [
  {
   "cell_type": "code",
   "execution_count": 1,
   "metadata": {
    "collapsed": true
   },
   "outputs": [],
   "source": [
    "import pandas as pd"
   ]
  },
  {
   "cell_type": "code",
   "execution_count": 2,
   "outputs": [],
   "source": [
    "path = '~/PycharmProjects/SeasonRepMod/'"
   ],
   "metadata": {
    "collapsed": false
   }
  },
  {
   "cell_type": "code",
   "execution_count": 3,
   "outputs": [],
   "source": [
    "df1801 = pd.read_excel(path + '整合季报代码模型/后台指标原始数据/开发库/查询季报数据201801.xlsx')\n",
    "df1802 = pd.read_excel(path + '整合季报代码模型/后台指标原始数据/开发库/查询季报数据201802.xlsx')\n",
    "df1803 = pd.read_excel(path + '整合季报代码模型/后台指标原始数据/开发库/查询季报数据201803.xlsx')\n",
    "df1804 = pd.read_excel(path + '整合季报代码模型/后台指标原始数据/开发库/查询季报数据201804.xlsx')\n",
    "df_industry = pd.read_csv(path + '整合季报代码模型/meta_code/fin_entity.csv')\n",
    "df_factor = pd.read_excel(path + '整合季报代码模型/后台指标原始数据/开发库/total_factor_dict.xlsx')"
   ],
   "metadata": {
    "collapsed": false
   }
  },
  {
   "cell_type": "code",
   "execution_count": 4,
   "outputs": [
    {
     "data": {
      "text/plain": "               id  entity_id  factor_id      molecule   denominator  \\\n0        56418273      23425          1  1.697970e+09  1.000000e+00   \n1        56418274      23425          2  2.869763e+08  1.410994e+09   \n2        56418275      23425          3  2.869763e+08  1.410994e+09   \n3        56418276      23425          8  1.697970e+09  0.000000e+00   \n4        56418278      23425         16  2.732603e+07  2.850984e+08   \n...           ...        ...        ...           ...           ...   \n925572  195689209      21362        209 -7.530451e-02  1.069027e-01   \n925573  195689213      21362        210 -7.530451e-02  1.000000e+00   \n925574  195689223      21362        213 -8.687978e+07  3.940369e+07   \n925575  195689226      21362        214 -1.000000e+06 -1.000000e+06   \n925576  195689237      21362        216  2.386706e+07  1.000000e+00   \n\n        finnal_value  year  quarterly  status     entity_name  \n0       1.697970e+09  2018          1       0   山东港口烟台港集团有限公司  \n1       2.033860e-01  2018          1       0   山东港口烟台港集团有限公司  \n2       2.033860e-01  2018          1       0   山东港口烟台港集团有限公司  \n3      -1.000000e+06  2018          1       0   山东港口烟台港集团有限公司  \n4       9.584773e-02  2018          1       0   山东港口烟台港集团有限公司  \n...              ...   ...        ...     ...             ...  \n925572 -7.044208e-01  2018          1       0  北京华录百纳影视股份有限公司  \n925573 -7.530451e-02  2018          1       0  北京华录百纳影视股份有限公司  \n925574 -2.204864e+00  2018          1       0  北京华录百纳影视股份有限公司  \n925575 -1.000000e+06  2018          1       0  北京华录百纳影视股份有限公司  \n925576  2.386706e+07  2018          1       0  北京华录百纳影视股份有限公司  \n\n[925577 rows x 10 columns]",
      "text/html": "<div>\n<style scoped>\n    .dataframe tbody tr th:only-of-type {\n        vertical-align: middle;\n    }\n\n    .dataframe tbody tr th {\n        vertical-align: top;\n    }\n\n    .dataframe thead th {\n        text-align: right;\n    }\n</style>\n<table border=\"1\" class=\"dataframe\">\n  <thead>\n    <tr style=\"text-align: right;\">\n      <th></th>\n      <th>id</th>\n      <th>entity_id</th>\n      <th>factor_id</th>\n      <th>molecule</th>\n      <th>denominator</th>\n      <th>finnal_value</th>\n      <th>year</th>\n      <th>quarterly</th>\n      <th>status</th>\n      <th>entity_name</th>\n    </tr>\n  </thead>\n  <tbody>\n    <tr>\n      <th>0</th>\n      <td>56418273</td>\n      <td>23425</td>\n      <td>1</td>\n      <td>1.697970e+09</td>\n      <td>1.000000e+00</td>\n      <td>1.697970e+09</td>\n      <td>2018</td>\n      <td>1</td>\n      <td>0</td>\n      <td>山东港口烟台港集团有限公司</td>\n    </tr>\n    <tr>\n      <th>1</th>\n      <td>56418274</td>\n      <td>23425</td>\n      <td>2</td>\n      <td>2.869763e+08</td>\n      <td>1.410994e+09</td>\n      <td>2.033860e-01</td>\n      <td>2018</td>\n      <td>1</td>\n      <td>0</td>\n      <td>山东港口烟台港集团有限公司</td>\n    </tr>\n    <tr>\n      <th>2</th>\n      <td>56418275</td>\n      <td>23425</td>\n      <td>3</td>\n      <td>2.869763e+08</td>\n      <td>1.410994e+09</td>\n      <td>2.033860e-01</td>\n      <td>2018</td>\n      <td>1</td>\n      <td>0</td>\n      <td>山东港口烟台港集团有限公司</td>\n    </tr>\n    <tr>\n      <th>3</th>\n      <td>56418276</td>\n      <td>23425</td>\n      <td>8</td>\n      <td>1.697970e+09</td>\n      <td>0.000000e+00</td>\n      <td>-1.000000e+06</td>\n      <td>2018</td>\n      <td>1</td>\n      <td>0</td>\n      <td>山东港口烟台港集团有限公司</td>\n    </tr>\n    <tr>\n      <th>4</th>\n      <td>56418278</td>\n      <td>23425</td>\n      <td>16</td>\n      <td>2.732603e+07</td>\n      <td>2.850984e+08</td>\n      <td>9.584773e-02</td>\n      <td>2018</td>\n      <td>1</td>\n      <td>0</td>\n      <td>山东港口烟台港集团有限公司</td>\n    </tr>\n    <tr>\n      <th>...</th>\n      <td>...</td>\n      <td>...</td>\n      <td>...</td>\n      <td>...</td>\n      <td>...</td>\n      <td>...</td>\n      <td>...</td>\n      <td>...</td>\n      <td>...</td>\n      <td>...</td>\n    </tr>\n    <tr>\n      <th>925572</th>\n      <td>195689209</td>\n      <td>21362</td>\n      <td>209</td>\n      <td>-7.530451e-02</td>\n      <td>1.069027e-01</td>\n      <td>-7.044208e-01</td>\n      <td>2018</td>\n      <td>1</td>\n      <td>0</td>\n      <td>北京华录百纳影视股份有限公司</td>\n    </tr>\n    <tr>\n      <th>925573</th>\n      <td>195689213</td>\n      <td>21362</td>\n      <td>210</td>\n      <td>-7.530451e-02</td>\n      <td>1.000000e+00</td>\n      <td>-7.530451e-02</td>\n      <td>2018</td>\n      <td>1</td>\n      <td>0</td>\n      <td>北京华录百纳影视股份有限公司</td>\n    </tr>\n    <tr>\n      <th>925574</th>\n      <td>195689223</td>\n      <td>21362</td>\n      <td>213</td>\n      <td>-8.687978e+07</td>\n      <td>3.940369e+07</td>\n      <td>-2.204864e+00</td>\n      <td>2018</td>\n      <td>1</td>\n      <td>0</td>\n      <td>北京华录百纳影视股份有限公司</td>\n    </tr>\n    <tr>\n      <th>925575</th>\n      <td>195689226</td>\n      <td>21362</td>\n      <td>214</td>\n      <td>-1.000000e+06</td>\n      <td>-1.000000e+06</td>\n      <td>-1.000000e+06</td>\n      <td>2018</td>\n      <td>1</td>\n      <td>0</td>\n      <td>北京华录百纳影视股份有限公司</td>\n    </tr>\n    <tr>\n      <th>925576</th>\n      <td>195689237</td>\n      <td>21362</td>\n      <td>216</td>\n      <td>2.386706e+07</td>\n      <td>1.000000e+00</td>\n      <td>2.386706e+07</td>\n      <td>2018</td>\n      <td>1</td>\n      <td>0</td>\n      <td>北京华录百纳影视股份有限公司</td>\n    </tr>\n  </tbody>\n</table>\n<p>925577 rows × 10 columns</p>\n</div>"
     },
     "execution_count": 4,
     "metadata": {},
     "output_type": "execute_result"
    }
   ],
   "source": [
    "df1801"
   ],
   "metadata": {
    "collapsed": false
   }
  },
  {
   "cell_type": "code",
   "execution_count": 71,
   "outputs": [
    {
     "data": {
      "text/plain": "item_code                BASIC_entity_name BASIC_code BASIC_industry  \\\n0          1957 & Co.(Hospitality) Limited    8495.HK           M002   \n1                             360鲁大师控股有限公司    3601.HK           M014   \n2                               361度国际有限公司    1361.HK           M007   \n3                              A8新媒体集团有限公司    0800.HK           M014   \n4                            ASMPT Limited    0522.HK           M014   \n...                                    ...        ...            ...   \n23222                           龙翔集团控股有限公司    0935.HK           M017   \n23223                         龙芯中科技术股份有限公司  688047.SH           M001   \n23224                        龙记(百慕达)集团有限公司    0255.HK           M008   \n23225                              龙资源有限公司    1712.HK           M003   \n23226                           龙辉国际控股有限公司    1007.HK           M002   \n\nitem_code  BASIC_year  BASIC_quarter  NaN  QW_ACCOUNTSRECEIVABLETURNOVER  \\\n0                 NaN            NaN  NaN                            NaN   \n1                 NaN            NaN  NaN                            NaN   \n2                 NaN            NaN  NaN                            NaN   \n3                 NaN            NaN  NaN                            NaN   \n4                 NaN            NaN  NaN                            NaN   \n...               ...            ...  ...                            ...   \n23222             NaN            NaN  NaN                            NaN   \n23223             NaN            NaN  NaN                            NaN   \n23224             NaN            NaN  NaN                            NaN   \n23225             NaN            NaN  NaN                            NaN   \n23226             NaN            NaN  NaN                            NaN   \n\nitem_code  QW_ACCOUNTSRECEIVABLETURNOVER_DELTA  \\\n0                                          NaN   \n1                                          NaN   \n2                                          NaN   \n3                                          NaN   \n4                                          NaN   \n...                                        ...   \n23222                                      NaN   \n23223                                      NaN   \n23224                                      NaN   \n23225                                      NaN   \n23226                                      NaN   \n\nitem_code  QW_ACCOUNTSRECEIVABLETURNOVER_DELTA_2  \\\n0                                            NaN   \n1                                            NaN   \n2                                            NaN   \n3                                            NaN   \n4                                            NaN   \n...                                          ...   \n23222                                        NaN   \n23223                                        NaN   \n23224                                        NaN   \n23225                                        NaN   \n23226                                        NaN   \n\nitem_code  QW_ACCOUNTSRECEIVABLETURNOVER_GROWTH  ...  \\\n0                                           NaN  ...   \n1                                           NaN  ...   \n2                                           NaN  ...   \n3                                           NaN  ...   \n4                                           NaN  ...   \n...                                         ...  ...   \n23222                                       NaN  ...   \n23223                                       NaN  ...   \n23224                                       NaN  ...   \n23225                                       NaN  ...   \n23226                                       NaN  ...   \n\nitem_code  QW_SELLEXPENSE_RATIO_DELTA  QW_SHORTBORROWING_RATIO  \\\n0                                 NaN                      NaN   \n1                                 NaN                      NaN   \n2                                 NaN                      NaN   \n3                                 NaN                      NaN   \n4                                 NaN                      NaN   \n...                               ...                      ...   \n23222                             NaN                      NaN   \n23223                             NaN                      NaN   \n23224                             NaN                      NaN   \n23225                             NaN                      NaN   \n23226                             NaN                      NaN   \n\nitem_code  QW_SHORTBORROWING_RATIO_DELTA  QW_STOCK_RATIO  \\\n0                                    NaN             NaN   \n1                                    NaN             NaN   \n2                                    NaN             NaN   \n3                                    NaN             NaN   \n4                                    NaN             NaN   \n...                                  ...             ...   \n23222                                NaN             NaN   \n23223                                NaN             NaN   \n23224                                NaN             NaN   \n23225                                NaN             NaN   \n23226                                NaN             NaN   \n\nitem_code  QW_STOCK_RATIO_DELTA  QW_TOTALASSETTURNOVER  \\\n0                           NaN                    NaN   \n1                           NaN                    NaN   \n2                           NaN                    NaN   \n3                           NaN                    NaN   \n4                           NaN                    NaN   \n...                         ...                    ...   \n23222                       NaN                    NaN   \n23223                       NaN                    NaN   \n23224                       NaN                    NaN   \n23225                       NaN                    NaN   \n23226                       NaN                    NaN   \n\nitem_code  QW_TOTALASSETTURNOVER_DELTA  QW_TOTALASSETTURNOVER_DELTA_2  \\\n0                                  NaN                            NaN   \n1                                  NaN                            NaN   \n2                                  NaN                            NaN   \n3                                  NaN                            NaN   \n4                                  NaN                            NaN   \n...                                ...                            ...   \n23222                              NaN                            NaN   \n23223                              NaN                            NaN   \n23224                              NaN                            NaN   \n23225                              NaN                            NaN   \n23226                              NaN                            NaN   \n\nitem_code  QW_TOTALASSETTURNOVER_GROWTH  QW_TOTALASSETTURNOVER_GROWTH_2  \n0                                   NaN                             NaN  \n1                                   NaN                             NaN  \n2                                   NaN                             NaN  \n3                                   NaN                             NaN  \n4                                   NaN                             NaN  \n...                                 ...                             ...  \n23222                               NaN                             NaN  \n23223                               NaN                             NaN  \n23224                               NaN                             NaN  \n23225                               NaN                             NaN  \n23226                               NaN                             NaN  \n\n[23227 rows x 196 columns]",
      "text/html": "<div>\n<style scoped>\n    .dataframe tbody tr th:only-of-type {\n        vertical-align: middle;\n    }\n\n    .dataframe tbody tr th {\n        vertical-align: top;\n    }\n\n    .dataframe thead th {\n        text-align: right;\n    }\n</style>\n<table border=\"1\" class=\"dataframe\">\n  <thead>\n    <tr style=\"text-align: right;\">\n      <th>item_code</th>\n      <th>BASIC_entity_name</th>\n      <th>BASIC_code</th>\n      <th>BASIC_industry</th>\n      <th>BASIC_year</th>\n      <th>BASIC_quarter</th>\n      <th>NaN</th>\n      <th>QW_ACCOUNTSRECEIVABLETURNOVER</th>\n      <th>QW_ACCOUNTSRECEIVABLETURNOVER_DELTA</th>\n      <th>QW_ACCOUNTSRECEIVABLETURNOVER_DELTA_2</th>\n      <th>QW_ACCOUNTSRECEIVABLETURNOVER_GROWTH</th>\n      <th>...</th>\n      <th>QW_SELLEXPENSE_RATIO_DELTA</th>\n      <th>QW_SHORTBORROWING_RATIO</th>\n      <th>QW_SHORTBORROWING_RATIO_DELTA</th>\n      <th>QW_STOCK_RATIO</th>\n      <th>QW_STOCK_RATIO_DELTA</th>\n      <th>QW_TOTALASSETTURNOVER</th>\n      <th>QW_TOTALASSETTURNOVER_DELTA</th>\n      <th>QW_TOTALASSETTURNOVER_DELTA_2</th>\n      <th>QW_TOTALASSETTURNOVER_GROWTH</th>\n      <th>QW_TOTALASSETTURNOVER_GROWTH_2</th>\n    </tr>\n  </thead>\n  <tbody>\n    <tr>\n      <th>0</th>\n      <td>1957 &amp; Co.(Hospitality) Limited</td>\n      <td>8495.HK</td>\n      <td>M002</td>\n      <td>NaN</td>\n      <td>NaN</td>\n      <td>NaN</td>\n      <td>NaN</td>\n      <td>NaN</td>\n      <td>NaN</td>\n      <td>NaN</td>\n      <td>...</td>\n      <td>NaN</td>\n      <td>NaN</td>\n      <td>NaN</td>\n      <td>NaN</td>\n      <td>NaN</td>\n      <td>NaN</td>\n      <td>NaN</td>\n      <td>NaN</td>\n      <td>NaN</td>\n      <td>NaN</td>\n    </tr>\n    <tr>\n      <th>1</th>\n      <td>360鲁大师控股有限公司</td>\n      <td>3601.HK</td>\n      <td>M014</td>\n      <td>NaN</td>\n      <td>NaN</td>\n      <td>NaN</td>\n      <td>NaN</td>\n      <td>NaN</td>\n      <td>NaN</td>\n      <td>NaN</td>\n      <td>...</td>\n      <td>NaN</td>\n      <td>NaN</td>\n      <td>NaN</td>\n      <td>NaN</td>\n      <td>NaN</td>\n      <td>NaN</td>\n      <td>NaN</td>\n      <td>NaN</td>\n      <td>NaN</td>\n      <td>NaN</td>\n    </tr>\n    <tr>\n      <th>2</th>\n      <td>361度国际有限公司</td>\n      <td>1361.HK</td>\n      <td>M007</td>\n      <td>NaN</td>\n      <td>NaN</td>\n      <td>NaN</td>\n      <td>NaN</td>\n      <td>NaN</td>\n      <td>NaN</td>\n      <td>NaN</td>\n      <td>...</td>\n      <td>NaN</td>\n      <td>NaN</td>\n      <td>NaN</td>\n      <td>NaN</td>\n      <td>NaN</td>\n      <td>NaN</td>\n      <td>NaN</td>\n      <td>NaN</td>\n      <td>NaN</td>\n      <td>NaN</td>\n    </tr>\n    <tr>\n      <th>3</th>\n      <td>A8新媒体集团有限公司</td>\n      <td>0800.HK</td>\n      <td>M014</td>\n      <td>NaN</td>\n      <td>NaN</td>\n      <td>NaN</td>\n      <td>NaN</td>\n      <td>NaN</td>\n      <td>NaN</td>\n      <td>NaN</td>\n      <td>...</td>\n      <td>NaN</td>\n      <td>NaN</td>\n      <td>NaN</td>\n      <td>NaN</td>\n      <td>NaN</td>\n      <td>NaN</td>\n      <td>NaN</td>\n      <td>NaN</td>\n      <td>NaN</td>\n      <td>NaN</td>\n    </tr>\n    <tr>\n      <th>4</th>\n      <td>ASMPT Limited</td>\n      <td>0522.HK</td>\n      <td>M014</td>\n      <td>NaN</td>\n      <td>NaN</td>\n      <td>NaN</td>\n      <td>NaN</td>\n      <td>NaN</td>\n      <td>NaN</td>\n      <td>NaN</td>\n      <td>...</td>\n      <td>NaN</td>\n      <td>NaN</td>\n      <td>NaN</td>\n      <td>NaN</td>\n      <td>NaN</td>\n      <td>NaN</td>\n      <td>NaN</td>\n      <td>NaN</td>\n      <td>NaN</td>\n      <td>NaN</td>\n    </tr>\n    <tr>\n      <th>...</th>\n      <td>...</td>\n      <td>...</td>\n      <td>...</td>\n      <td>...</td>\n      <td>...</td>\n      <td>...</td>\n      <td>...</td>\n      <td>...</td>\n      <td>...</td>\n      <td>...</td>\n      <td>...</td>\n      <td>...</td>\n      <td>...</td>\n      <td>...</td>\n      <td>...</td>\n      <td>...</td>\n      <td>...</td>\n      <td>...</td>\n      <td>...</td>\n      <td>...</td>\n      <td>...</td>\n    </tr>\n    <tr>\n      <th>23222</th>\n      <td>龙翔集团控股有限公司</td>\n      <td>0935.HK</td>\n      <td>M017</td>\n      <td>NaN</td>\n      <td>NaN</td>\n      <td>NaN</td>\n      <td>NaN</td>\n      <td>NaN</td>\n      <td>NaN</td>\n      <td>NaN</td>\n      <td>...</td>\n      <td>NaN</td>\n      <td>NaN</td>\n      <td>NaN</td>\n      <td>NaN</td>\n      <td>NaN</td>\n      <td>NaN</td>\n      <td>NaN</td>\n      <td>NaN</td>\n      <td>NaN</td>\n      <td>NaN</td>\n    </tr>\n    <tr>\n      <th>23223</th>\n      <td>龙芯中科技术股份有限公司</td>\n      <td>688047.SH</td>\n      <td>M001</td>\n      <td>NaN</td>\n      <td>NaN</td>\n      <td>NaN</td>\n      <td>NaN</td>\n      <td>NaN</td>\n      <td>NaN</td>\n      <td>NaN</td>\n      <td>...</td>\n      <td>NaN</td>\n      <td>NaN</td>\n      <td>NaN</td>\n      <td>NaN</td>\n      <td>NaN</td>\n      <td>NaN</td>\n      <td>NaN</td>\n      <td>NaN</td>\n      <td>NaN</td>\n      <td>NaN</td>\n    </tr>\n    <tr>\n      <th>23224</th>\n      <td>龙记(百慕达)集团有限公司</td>\n      <td>0255.HK</td>\n      <td>M008</td>\n      <td>NaN</td>\n      <td>NaN</td>\n      <td>NaN</td>\n      <td>NaN</td>\n      <td>NaN</td>\n      <td>NaN</td>\n      <td>NaN</td>\n      <td>...</td>\n      <td>NaN</td>\n      <td>NaN</td>\n      <td>NaN</td>\n      <td>NaN</td>\n      <td>NaN</td>\n      <td>NaN</td>\n      <td>NaN</td>\n      <td>NaN</td>\n      <td>NaN</td>\n      <td>NaN</td>\n    </tr>\n    <tr>\n      <th>23225</th>\n      <td>龙资源有限公司</td>\n      <td>1712.HK</td>\n      <td>M003</td>\n      <td>NaN</td>\n      <td>NaN</td>\n      <td>NaN</td>\n      <td>NaN</td>\n      <td>NaN</td>\n      <td>NaN</td>\n      <td>NaN</td>\n      <td>...</td>\n      <td>NaN</td>\n      <td>NaN</td>\n      <td>NaN</td>\n      <td>NaN</td>\n      <td>NaN</td>\n      <td>NaN</td>\n      <td>NaN</td>\n      <td>NaN</td>\n      <td>NaN</td>\n      <td>NaN</td>\n    </tr>\n    <tr>\n      <th>23226</th>\n      <td>龙辉国际控股有限公司</td>\n      <td>1007.HK</td>\n      <td>M002</td>\n      <td>NaN</td>\n      <td>NaN</td>\n      <td>NaN</td>\n      <td>NaN</td>\n      <td>NaN</td>\n      <td>NaN</td>\n      <td>NaN</td>\n      <td>...</td>\n      <td>NaN</td>\n      <td>NaN</td>\n      <td>NaN</td>\n      <td>NaN</td>\n      <td>NaN</td>\n      <td>NaN</td>\n      <td>NaN</td>\n      <td>NaN</td>\n      <td>NaN</td>\n      <td>NaN</td>\n    </tr>\n  </tbody>\n</table>\n<p>23227 rows × 196 columns</p>\n</div>"
     },
     "execution_count": 71,
     "metadata": {},
     "output_type": "execute_result"
    }
   ],
   "source": [
    "df18 = pd.concat([df1801, df1802, df1803, df1804])\n",
    "df18 = df18[['entity_name', 'year', 'quarterly', 'factor_id', 'finnal_value']]\n",
    "df_industry_need = df_industry[['entity_name', 'industry_whitewash', 'stock_name', 'stock_code']]\n",
    "df18 = pd.merge(df18, df_industry_need, on='entity_name', how='outer')\n",
    "df18 = pd.merge(df18, df_factor, on='factor_id', how='left')\n",
    "df18.drop('stock_name', inplace=True, axis=1)\n",
    "df18.drop('factor_id', inplace=True, axis=1)\n",
    "df18.drop('item_name', inplace=True, axis=1)\n",
    "df18.rename(columns={'entity_name':'BASIC_entity_name',\n",
    "                     'stock_code':'BASIC_code',\n",
    "                     'year':'BASIC_year',\n",
    "                     'quarterly':'BASIC_quarter',\n",
    "                     'finnal_value':'end_value',\n",
    "                     'industry_whitewash':'BASIC_industry'},\n",
    "            inplace=True)\n",
    "df18 = df18[['BASIC_entity_name',\n",
    "             'BASIC_code',\n",
    "             'BASIC_industry',\n",
    "             'BASIC_year',\n",
    "             'BASIC_quarter',\n",
    "             'item_code',\n",
    "             'end_value']]\n",
    "df18.drop_duplicates(subset=[\"BASIC_entity_name\", \"BASIC_code\", \"BASIC_year\", \"BASIC_quarter\", \"item_code\"], keep='first', inplace=True)\n",
    "df18 = df18.pivot(index=['BASIC_entity_name', 'BASIC_code', 'BASIC_industry', 'BASIC_year', 'BASIC_quarter'], #以主体划分\n",
    "                  columns='item_code',\n",
    "                  values='end_value').reset_index()\n",
    "df18"
   ],
   "metadata": {
    "collapsed": false
   }
  },
  {
   "cell_type": "code",
   "execution_count": 72,
   "outputs": [],
   "source": [
    "df18.to_excel(path + '整合季报代码模型/整合后台数据/开发库/df18.xlsx')"
   ],
   "metadata": {
    "collapsed": false
   }
  },
  {
   "cell_type": "code",
   "execution_count": null,
   "outputs": [],
   "source": [],
   "metadata": {
    "collapsed": false
   }
  }
 ],
 "metadata": {
  "kernelspec": {
   "display_name": "Python 3",
   "language": "python",
   "name": "python3"
  },
  "language_info": {
   "codemirror_mode": {
    "name": "ipython",
    "version": 2
   },
   "file_extension": ".py",
   "mimetype": "text/x-python",
   "name": "python",
   "nbconvert_exporter": "python",
   "pygments_lexer": "ipython2",
   "version": "2.7.6"
  }
 },
 "nbformat": 4,
 "nbformat_minor": 0
}
