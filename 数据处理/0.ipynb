{
 "cells": [
  {
   "cell_type": "code",
   "execution_count": 15,
   "metadata": {
    "collapsed": true
   },
   "outputs": [],
   "source": [
    "### 合并22年原始数据与提供的补充数据\n",
    "\n",
    "import pandas as pd\n",
    "\n",
    "# 导入原始科目数据和缺失科目补充数据\n",
    "df1 = pd.read_csv('/Users/zhuangyuhao/PycharmProjects/SeasonRepMod/整合季报代码模型/dfs/原始科目数据_20221111.csv')\n",
    "df2 = pd.read_csv('/Users/zhuangyuhao/PycharmProjects/SeasonRepMod/整合季报代码模型/dfs/2019-2022Q3缺失科目_20230103.csv')"
   ]
  },
  {
   "cell_type": "code",
   "execution_count": 16,
   "outputs": [
    {
     "data": {
      "text/plain": "        BASIC_entity_name BASIC_code BASIC_industry  BASIC_year  \\\n0              万科企业股份有限公司  000002.SZ           M009        2019   \n1              万科企业股份有限公司  000002.SZ           M009        2019   \n2              万科企业股份有限公司  000002.SZ           M009        2019   \n3              万科企业股份有限公司  000002.SZ           M009        2019   \n4              万科企业股份有限公司  000002.SZ           M009        2019   \n...                   ...        ...            ...         ...   \n1731799   浙江夜光明光电科技股份有限公司  873527.BJ           M005        2022   \n1731800   浙江夜光明光电科技股份有限公司  873527.BJ           M005        2022   \n1731801   浙江夜光明光电科技股份有限公司  873527.BJ           M005        2022   \n1731802   浙江夜光明光电科技股份有限公司  873527.BJ           M005        2022   \n1731803   浙江夜光明光电科技股份有限公司  873527.BJ           M005        2022   \n\n         BASIC_quarter         id                code    init_value  \\\n0                    1  175805680             BS_0101  1.432204e+11   \n1                    1  175805681             BS_0102  1.101658e+09   \n2                    1  175805683             BS_0104  1.837708e+09   \n3                    1  175805684             BS_0105  1.007180e+11   \n4                    1  175805688             BS_0109  7.785777e+11   \n...                ...        ...                 ...           ...   \n1731799              3  206206488             PF_0118 -2.817221e+06   \n1731800              3  206206523           PF_0118_1  6.551007e+05   \n1731801              3  206206504             PF_0129  2.830911e+07   \n1731802              3  206206507             PF_0132  2.567637e+07   \n1731803              3  207055640  stmnote_Eoitems_24  3.187749e+06   \n\n         master_id  code_id     end_value             add_time  old_value  \n0            83770      NaN  1.432204e+11    1/7/2022 04:40:34        NaN  \n1            83770      NaN  1.101658e+09    1/7/2022 04:40:34        NaN  \n2            83770      NaN  1.837708e+09    1/7/2022 04:40:34        NaN  \n3            83770      NaN  1.007180e+11    1/7/2022 04:40:34        NaN  \n4            83770      NaN  7.785777e+11    1/7/2022 04:40:34        NaN  \n...            ...      ...           ...                  ...        ...  \n1731799     297776      NaN -2.817221e+06  10/11/2022 13:38:12        NaN  \n1731800     297776      NaN  6.551007e+05  10/11/2022 13:38:12        NaN  \n1731801     297776      NaN  2.830911e+07  10/11/2022 13:38:12        NaN  \n1731802     297776      NaN  2.567637e+07  10/11/2022 13:38:12        NaN  \n1731803     297776      NaN  3.187749e+06  10/11/2022 13:38:12        NaN  \n\n[1731804 rows x 13 columns]",
      "text/html": "<div>\n<style scoped>\n    .dataframe tbody tr th:only-of-type {\n        vertical-align: middle;\n    }\n\n    .dataframe tbody tr th {\n        vertical-align: top;\n    }\n\n    .dataframe thead th {\n        text-align: right;\n    }\n</style>\n<table border=\"1\" class=\"dataframe\">\n  <thead>\n    <tr style=\"text-align: right;\">\n      <th></th>\n      <th>BASIC_entity_name</th>\n      <th>BASIC_code</th>\n      <th>BASIC_industry</th>\n      <th>BASIC_year</th>\n      <th>BASIC_quarter</th>\n      <th>id</th>\n      <th>code</th>\n      <th>init_value</th>\n      <th>master_id</th>\n      <th>code_id</th>\n      <th>end_value</th>\n      <th>add_time</th>\n      <th>old_value</th>\n    </tr>\n  </thead>\n  <tbody>\n    <tr>\n      <th>0</th>\n      <td>万科企业股份有限公司</td>\n      <td>000002.SZ</td>\n      <td>M009</td>\n      <td>2019</td>\n      <td>1</td>\n      <td>175805680</td>\n      <td>BS_0101</td>\n      <td>1.432204e+11</td>\n      <td>83770</td>\n      <td>NaN</td>\n      <td>1.432204e+11</td>\n      <td>1/7/2022 04:40:34</td>\n      <td>NaN</td>\n    </tr>\n    <tr>\n      <th>1</th>\n      <td>万科企业股份有限公司</td>\n      <td>000002.SZ</td>\n      <td>M009</td>\n      <td>2019</td>\n      <td>1</td>\n      <td>175805681</td>\n      <td>BS_0102</td>\n      <td>1.101658e+09</td>\n      <td>83770</td>\n      <td>NaN</td>\n      <td>1.101658e+09</td>\n      <td>1/7/2022 04:40:34</td>\n      <td>NaN</td>\n    </tr>\n    <tr>\n      <th>2</th>\n      <td>万科企业股份有限公司</td>\n      <td>000002.SZ</td>\n      <td>M009</td>\n      <td>2019</td>\n      <td>1</td>\n      <td>175805683</td>\n      <td>BS_0104</td>\n      <td>1.837708e+09</td>\n      <td>83770</td>\n      <td>NaN</td>\n      <td>1.837708e+09</td>\n      <td>1/7/2022 04:40:34</td>\n      <td>NaN</td>\n    </tr>\n    <tr>\n      <th>3</th>\n      <td>万科企业股份有限公司</td>\n      <td>000002.SZ</td>\n      <td>M009</td>\n      <td>2019</td>\n      <td>1</td>\n      <td>175805684</td>\n      <td>BS_0105</td>\n      <td>1.007180e+11</td>\n      <td>83770</td>\n      <td>NaN</td>\n      <td>1.007180e+11</td>\n      <td>1/7/2022 04:40:34</td>\n      <td>NaN</td>\n    </tr>\n    <tr>\n      <th>4</th>\n      <td>万科企业股份有限公司</td>\n      <td>000002.SZ</td>\n      <td>M009</td>\n      <td>2019</td>\n      <td>1</td>\n      <td>175805688</td>\n      <td>BS_0109</td>\n      <td>7.785777e+11</td>\n      <td>83770</td>\n      <td>NaN</td>\n      <td>7.785777e+11</td>\n      <td>1/7/2022 04:40:34</td>\n      <td>NaN</td>\n    </tr>\n    <tr>\n      <th>...</th>\n      <td>...</td>\n      <td>...</td>\n      <td>...</td>\n      <td>...</td>\n      <td>...</td>\n      <td>...</td>\n      <td>...</td>\n      <td>...</td>\n      <td>...</td>\n      <td>...</td>\n      <td>...</td>\n      <td>...</td>\n      <td>...</td>\n    </tr>\n    <tr>\n      <th>1731799</th>\n      <td>浙江夜光明光电科技股份有限公司</td>\n      <td>873527.BJ</td>\n      <td>M005</td>\n      <td>2022</td>\n      <td>3</td>\n      <td>206206488</td>\n      <td>PF_0118</td>\n      <td>-2.817221e+06</td>\n      <td>297776</td>\n      <td>NaN</td>\n      <td>-2.817221e+06</td>\n      <td>10/11/2022 13:38:12</td>\n      <td>NaN</td>\n    </tr>\n    <tr>\n      <th>1731800</th>\n      <td>浙江夜光明光电科技股份有限公司</td>\n      <td>873527.BJ</td>\n      <td>M005</td>\n      <td>2022</td>\n      <td>3</td>\n      <td>206206523</td>\n      <td>PF_0118_1</td>\n      <td>6.551007e+05</td>\n      <td>297776</td>\n      <td>NaN</td>\n      <td>6.551007e+05</td>\n      <td>10/11/2022 13:38:12</td>\n      <td>NaN</td>\n    </tr>\n    <tr>\n      <th>1731801</th>\n      <td>浙江夜光明光电科技股份有限公司</td>\n      <td>873527.BJ</td>\n      <td>M005</td>\n      <td>2022</td>\n      <td>3</td>\n      <td>206206504</td>\n      <td>PF_0129</td>\n      <td>2.830911e+07</td>\n      <td>297776</td>\n      <td>NaN</td>\n      <td>2.830911e+07</td>\n      <td>10/11/2022 13:38:12</td>\n      <td>NaN</td>\n    </tr>\n    <tr>\n      <th>1731802</th>\n      <td>浙江夜光明光电科技股份有限公司</td>\n      <td>873527.BJ</td>\n      <td>M005</td>\n      <td>2022</td>\n      <td>3</td>\n      <td>206206507</td>\n      <td>PF_0132</td>\n      <td>2.567637e+07</td>\n      <td>297776</td>\n      <td>NaN</td>\n      <td>2.567637e+07</td>\n      <td>10/11/2022 13:38:12</td>\n      <td>NaN</td>\n    </tr>\n    <tr>\n      <th>1731803</th>\n      <td>浙江夜光明光电科技股份有限公司</td>\n      <td>873527.BJ</td>\n      <td>M005</td>\n      <td>2022</td>\n      <td>3</td>\n      <td>207055640</td>\n      <td>stmnote_Eoitems_24</td>\n      <td>3.187749e+06</td>\n      <td>297776</td>\n      <td>NaN</td>\n      <td>3.187749e+06</td>\n      <td>10/11/2022 13:38:12</td>\n      <td>NaN</td>\n    </tr>\n  </tbody>\n</table>\n<p>1731804 rows × 13 columns</p>\n</div>"
     },
     "execution_count": 16,
     "metadata": {},
     "output_type": "execute_result"
    }
   ],
   "source": [
    "df1"
   ],
   "metadata": {
    "collapsed": false
   }
  },
  {
   "cell_type": "code",
   "execution_count": 17,
   "outputs": [
    {
     "data": {
      "text/plain": "           entity_name stock_code industry_whitewash  YEAR  quarterly_type  \\\n0        TCL科技集团股份有限公司  000100.SZ               M001  2019               4   \n1        TCL科技集团股份有限公司  000100.SZ               M001  2019               4   \n2        TCL科技集团股份有限公司  000100.SZ               M001  2019               4   \n3        TCL科技集团股份有限公司  000100.SZ               M001  2019               4   \n4        TCL科技集团股份有限公司  000100.SZ               M001  2019               4   \n...                ...        ...                ...   ...             ...   \n1940111   龙芯中科技术股份有限公司  688047.SH               M001  2022               3   \n1940112   龙芯中科技术股份有限公司  688047.SH               M001  2022               3   \n1940113   龙芯中科技术股份有限公司  688047.SH               M001  2022               3   \n1940114   龙芯中科技术股份有限公司  688047.SH               M001  2022               3   \n1940115   龙芯中科技术股份有限公司  688047.SH               M001  2022               3   \n\n                id       code    init_value  master_id  code_id     end_value  \\\n0        179802687    BS_0108  2.744271e+09      62571      NaN  2.744271e+09   \n1        179802707    BS_0205  1.719428e+10      62571      NaN  1.719428e+10   \n2        179802708    BS_0206  8.227300e+07      62571      NaN  8.227300e+07   \n3        179802710    BS_0208  3.357829e+10      62571      NaN  3.357829e+10   \n4        179802717    BS_0215  2.452000e+06      62571      NaN  2.452000e+06   \n...            ...        ...           ...        ...      ...           ...   \n1940111  206325270    PF_0122  1.001139e+06     299454      NaN  1.001139e+06   \n1940112  206325275  PF_0108_1 -1.000000e+06     299454      NaN -1.000000e+06   \n1940113  206325281    PF_0119 -1.545070e+06     299454      NaN -1.545070e+06   \n1940114  206325297    PF_0130  2.032070e+06     299454      NaN  2.032070e+06   \n1940115  206325312    PF_0123  3.912200e+02     299454      NaN  3.912200e+02   \n\n                    add_time  old_value  \n0          1/7/2022 05:24:32        NaN  \n1          1/7/2022 05:24:32        NaN  \n2          1/7/2022 05:24:32        NaN  \n3          1/7/2022 05:24:32        NaN  \n4          1/7/2022 05:24:32        NaN  \n...                      ...        ...  \n1940111  10/11/2022 13:38:12        NaN  \n1940112  10/11/2022 13:38:12        NaN  \n1940113  10/11/2022 13:38:12        NaN  \n1940114  10/11/2022 13:38:12        NaN  \n1940115  10/11/2022 13:38:12        NaN  \n\n[1940116 rows x 13 columns]",
      "text/html": "<div>\n<style scoped>\n    .dataframe tbody tr th:only-of-type {\n        vertical-align: middle;\n    }\n\n    .dataframe tbody tr th {\n        vertical-align: top;\n    }\n\n    .dataframe thead th {\n        text-align: right;\n    }\n</style>\n<table border=\"1\" class=\"dataframe\">\n  <thead>\n    <tr style=\"text-align: right;\">\n      <th></th>\n      <th>entity_name</th>\n      <th>stock_code</th>\n      <th>industry_whitewash</th>\n      <th>YEAR</th>\n      <th>quarterly_type</th>\n      <th>id</th>\n      <th>code</th>\n      <th>init_value</th>\n      <th>master_id</th>\n      <th>code_id</th>\n      <th>end_value</th>\n      <th>add_time</th>\n      <th>old_value</th>\n    </tr>\n  </thead>\n  <tbody>\n    <tr>\n      <th>0</th>\n      <td>TCL科技集团股份有限公司</td>\n      <td>000100.SZ</td>\n      <td>M001</td>\n      <td>2019</td>\n      <td>4</td>\n      <td>179802687</td>\n      <td>BS_0108</td>\n      <td>2.744271e+09</td>\n      <td>62571</td>\n      <td>NaN</td>\n      <td>2.744271e+09</td>\n      <td>1/7/2022 05:24:32</td>\n      <td>NaN</td>\n    </tr>\n    <tr>\n      <th>1</th>\n      <td>TCL科技集团股份有限公司</td>\n      <td>000100.SZ</td>\n      <td>M001</td>\n      <td>2019</td>\n      <td>4</td>\n      <td>179802707</td>\n      <td>BS_0205</td>\n      <td>1.719428e+10</td>\n      <td>62571</td>\n      <td>NaN</td>\n      <td>1.719428e+10</td>\n      <td>1/7/2022 05:24:32</td>\n      <td>NaN</td>\n    </tr>\n    <tr>\n      <th>2</th>\n      <td>TCL科技集团股份有限公司</td>\n      <td>000100.SZ</td>\n      <td>M001</td>\n      <td>2019</td>\n      <td>4</td>\n      <td>179802708</td>\n      <td>BS_0206</td>\n      <td>8.227300e+07</td>\n      <td>62571</td>\n      <td>NaN</td>\n      <td>8.227300e+07</td>\n      <td>1/7/2022 05:24:32</td>\n      <td>NaN</td>\n    </tr>\n    <tr>\n      <th>3</th>\n      <td>TCL科技集团股份有限公司</td>\n      <td>000100.SZ</td>\n      <td>M001</td>\n      <td>2019</td>\n      <td>4</td>\n      <td>179802710</td>\n      <td>BS_0208</td>\n      <td>3.357829e+10</td>\n      <td>62571</td>\n      <td>NaN</td>\n      <td>3.357829e+10</td>\n      <td>1/7/2022 05:24:32</td>\n      <td>NaN</td>\n    </tr>\n    <tr>\n      <th>4</th>\n      <td>TCL科技集团股份有限公司</td>\n      <td>000100.SZ</td>\n      <td>M001</td>\n      <td>2019</td>\n      <td>4</td>\n      <td>179802717</td>\n      <td>BS_0215</td>\n      <td>2.452000e+06</td>\n      <td>62571</td>\n      <td>NaN</td>\n      <td>2.452000e+06</td>\n      <td>1/7/2022 05:24:32</td>\n      <td>NaN</td>\n    </tr>\n    <tr>\n      <th>...</th>\n      <td>...</td>\n      <td>...</td>\n      <td>...</td>\n      <td>...</td>\n      <td>...</td>\n      <td>...</td>\n      <td>...</td>\n      <td>...</td>\n      <td>...</td>\n      <td>...</td>\n      <td>...</td>\n      <td>...</td>\n      <td>...</td>\n    </tr>\n    <tr>\n      <th>1940111</th>\n      <td>龙芯中科技术股份有限公司</td>\n      <td>688047.SH</td>\n      <td>M001</td>\n      <td>2022</td>\n      <td>3</td>\n      <td>206325270</td>\n      <td>PF_0122</td>\n      <td>1.001139e+06</td>\n      <td>299454</td>\n      <td>NaN</td>\n      <td>1.001139e+06</td>\n      <td>10/11/2022 13:38:12</td>\n      <td>NaN</td>\n    </tr>\n    <tr>\n      <th>1940112</th>\n      <td>龙芯中科技术股份有限公司</td>\n      <td>688047.SH</td>\n      <td>M001</td>\n      <td>2022</td>\n      <td>3</td>\n      <td>206325275</td>\n      <td>PF_0108_1</td>\n      <td>-1.000000e+06</td>\n      <td>299454</td>\n      <td>NaN</td>\n      <td>-1.000000e+06</td>\n      <td>10/11/2022 13:38:12</td>\n      <td>NaN</td>\n    </tr>\n    <tr>\n      <th>1940113</th>\n      <td>龙芯中科技术股份有限公司</td>\n      <td>688047.SH</td>\n      <td>M001</td>\n      <td>2022</td>\n      <td>3</td>\n      <td>206325281</td>\n      <td>PF_0119</td>\n      <td>-1.545070e+06</td>\n      <td>299454</td>\n      <td>NaN</td>\n      <td>-1.545070e+06</td>\n      <td>10/11/2022 13:38:12</td>\n      <td>NaN</td>\n    </tr>\n    <tr>\n      <th>1940114</th>\n      <td>龙芯中科技术股份有限公司</td>\n      <td>688047.SH</td>\n      <td>M001</td>\n      <td>2022</td>\n      <td>3</td>\n      <td>206325297</td>\n      <td>PF_0130</td>\n      <td>2.032070e+06</td>\n      <td>299454</td>\n      <td>NaN</td>\n      <td>2.032070e+06</td>\n      <td>10/11/2022 13:38:12</td>\n      <td>NaN</td>\n    </tr>\n    <tr>\n      <th>1940115</th>\n      <td>龙芯中科技术股份有限公司</td>\n      <td>688047.SH</td>\n      <td>M001</td>\n      <td>2022</td>\n      <td>3</td>\n      <td>206325312</td>\n      <td>PF_0123</td>\n      <td>3.912200e+02</td>\n      <td>299454</td>\n      <td>NaN</td>\n      <td>3.912200e+02</td>\n      <td>10/11/2022 13:38:12</td>\n      <td>NaN</td>\n    </tr>\n  </tbody>\n</table>\n<p>1940116 rows × 13 columns</p>\n</div>"
     },
     "execution_count": 17,
     "metadata": {},
     "output_type": "execute_result"
    }
   ],
   "source": [
    "df2"
   ],
   "metadata": {
    "collapsed": false
   }
  },
  {
   "cell_type": "code",
   "execution_count": 18,
   "outputs": [],
   "source": [
    "# 补充数据重命名\n",
    "df2.rename(columns={'entity_name': 'BASIC_entity_name',\n",
    "                    'stock_code': 'BASIC_code',\n",
    "                    'industry_whitewash': 'BASIC_industry',\n",
    "                    'YEAR': 'BASIC_year',\n",
    "                    'quarterly_type': 'BASIC_quarter'},\n",
    "           inplace=True)\n",
    "\n",
    "# 合并数据\n",
    "df = pd.concat([df1, df2])\n",
    "df.drop('add_time', axis=1, inplace=True)\n",
    "df.drop('old_value', axis=1, inplace=True)"
   ],
   "metadata": {
    "collapsed": false
   }
  },
  {
   "cell_type": "code",
   "execution_count": 19,
   "outputs": [
    {
     "data": {
      "text/plain": "        BASIC_entity_name BASIC_code BASIC_industry  BASIC_year  \\\n80             万科企业股份有限公司  000002.SZ           M009        2020   \n81             万科企业股份有限公司  000002.SZ           M009        2020   \n82             万科企业股份有限公司  000002.SZ           M009        2020   \n83             万科企业股份有限公司  000002.SZ           M009        2020   \n84             万科企业股份有限公司  000002.SZ           M009        2020   \n...                   ...        ...            ...         ...   \n1677015   上海新动力汽车科技股份有限公司  600841.SH           M018        2020   \n1677016   上海新动力汽车科技股份有限公司  600841.SH           M018        2020   \n1677017   上海新动力汽车科技股份有限公司  600841.SH           M018        2020   \n1677018   上海新动力汽车科技股份有限公司  600841.SH           M018        2020   \n1677019   上海新动力汽车科技股份有限公司  600841.SH           M018        2020   \n\n         BASIC_quarter         id     code    init_value  master_id  code_id  \\\n80                   1  182808701  BS_0101  1.732716e+11     108007      NaN   \n81                   1  182808702  BS_0102  2.411949e+09     108007      NaN   \n82                   1  182808704  BS_0104  2.627513e+09     108007      NaN   \n83                   1  182808705  BS_0105  1.068063e+11     108007      NaN   \n84                   1  182808709  BS_0109  9.057745e+11     108007      NaN   \n...                ...        ...      ...           ...        ...      ...   \n1677015              4  188557157  PF_0119 -1.608945e+08     271875      NaN   \n1677016              4  188557159  PF_0121 -1.226123e+06     271875      NaN   \n1677017              4  188557160  PF_0122  7.434818e+07     271875      NaN   \n1677018              4  188557161  PF_0123  5.014855e+07     271875      NaN   \n1677019              4  188557168  PF_0130 -1.009127e+08     271875      NaN   \n\n            end_value  \n80       1.732716e+11  \n81       2.411949e+09  \n82       2.627513e+09  \n83       1.068063e+11  \n84       9.057745e+11  \n...               ...  \n1677015 -1.608945e+08  \n1677016 -1.226123e+06  \n1677017  7.434818e+07  \n1677018  5.014855e+07  \n1677019 -1.009127e+08  \n\n[987226 rows x 11 columns]",
      "text/html": "<div>\n<style scoped>\n    .dataframe tbody tr th:only-of-type {\n        vertical-align: middle;\n    }\n\n    .dataframe tbody tr th {\n        vertical-align: top;\n    }\n\n    .dataframe thead th {\n        text-align: right;\n    }\n</style>\n<table border=\"1\" class=\"dataframe\">\n  <thead>\n    <tr style=\"text-align: right;\">\n      <th></th>\n      <th>BASIC_entity_name</th>\n      <th>BASIC_code</th>\n      <th>BASIC_industry</th>\n      <th>BASIC_year</th>\n      <th>BASIC_quarter</th>\n      <th>id</th>\n      <th>code</th>\n      <th>init_value</th>\n      <th>master_id</th>\n      <th>code_id</th>\n      <th>end_value</th>\n    </tr>\n  </thead>\n  <tbody>\n    <tr>\n      <th>80</th>\n      <td>万科企业股份有限公司</td>\n      <td>000002.SZ</td>\n      <td>M009</td>\n      <td>2020</td>\n      <td>1</td>\n      <td>182808701</td>\n      <td>BS_0101</td>\n      <td>1.732716e+11</td>\n      <td>108007</td>\n      <td>NaN</td>\n      <td>1.732716e+11</td>\n    </tr>\n    <tr>\n      <th>81</th>\n      <td>万科企业股份有限公司</td>\n      <td>000002.SZ</td>\n      <td>M009</td>\n      <td>2020</td>\n      <td>1</td>\n      <td>182808702</td>\n      <td>BS_0102</td>\n      <td>2.411949e+09</td>\n      <td>108007</td>\n      <td>NaN</td>\n      <td>2.411949e+09</td>\n    </tr>\n    <tr>\n      <th>82</th>\n      <td>万科企业股份有限公司</td>\n      <td>000002.SZ</td>\n      <td>M009</td>\n      <td>2020</td>\n      <td>1</td>\n      <td>182808704</td>\n      <td>BS_0104</td>\n      <td>2.627513e+09</td>\n      <td>108007</td>\n      <td>NaN</td>\n      <td>2.627513e+09</td>\n    </tr>\n    <tr>\n      <th>83</th>\n      <td>万科企业股份有限公司</td>\n      <td>000002.SZ</td>\n      <td>M009</td>\n      <td>2020</td>\n      <td>1</td>\n      <td>182808705</td>\n      <td>BS_0105</td>\n      <td>1.068063e+11</td>\n      <td>108007</td>\n      <td>NaN</td>\n      <td>1.068063e+11</td>\n    </tr>\n    <tr>\n      <th>84</th>\n      <td>万科企业股份有限公司</td>\n      <td>000002.SZ</td>\n      <td>M009</td>\n      <td>2020</td>\n      <td>1</td>\n      <td>182808709</td>\n      <td>BS_0109</td>\n      <td>9.057745e+11</td>\n      <td>108007</td>\n      <td>NaN</td>\n      <td>9.057745e+11</td>\n    </tr>\n    <tr>\n      <th>...</th>\n      <td>...</td>\n      <td>...</td>\n      <td>...</td>\n      <td>...</td>\n      <td>...</td>\n      <td>...</td>\n      <td>...</td>\n      <td>...</td>\n      <td>...</td>\n      <td>...</td>\n      <td>...</td>\n    </tr>\n    <tr>\n      <th>1677015</th>\n      <td>上海新动力汽车科技股份有限公司</td>\n      <td>600841.SH</td>\n      <td>M018</td>\n      <td>2020</td>\n      <td>4</td>\n      <td>188557157</td>\n      <td>PF_0119</td>\n      <td>-1.608945e+08</td>\n      <td>271875</td>\n      <td>NaN</td>\n      <td>-1.608945e+08</td>\n    </tr>\n    <tr>\n      <th>1677016</th>\n      <td>上海新动力汽车科技股份有限公司</td>\n      <td>600841.SH</td>\n      <td>M018</td>\n      <td>2020</td>\n      <td>4</td>\n      <td>188557159</td>\n      <td>PF_0121</td>\n      <td>-1.226123e+06</td>\n      <td>271875</td>\n      <td>NaN</td>\n      <td>-1.226123e+06</td>\n    </tr>\n    <tr>\n      <th>1677017</th>\n      <td>上海新动力汽车科技股份有限公司</td>\n      <td>600841.SH</td>\n      <td>M018</td>\n      <td>2020</td>\n      <td>4</td>\n      <td>188557160</td>\n      <td>PF_0122</td>\n      <td>7.434818e+07</td>\n      <td>271875</td>\n      <td>NaN</td>\n      <td>7.434818e+07</td>\n    </tr>\n    <tr>\n      <th>1677018</th>\n      <td>上海新动力汽车科技股份有限公司</td>\n      <td>600841.SH</td>\n      <td>M018</td>\n      <td>2020</td>\n      <td>4</td>\n      <td>188557161</td>\n      <td>PF_0123</td>\n      <td>5.014855e+07</td>\n      <td>271875</td>\n      <td>NaN</td>\n      <td>5.014855e+07</td>\n    </tr>\n    <tr>\n      <th>1677019</th>\n      <td>上海新动力汽车科技股份有限公司</td>\n      <td>600841.SH</td>\n      <td>M018</td>\n      <td>2020</td>\n      <td>4</td>\n      <td>188557168</td>\n      <td>PF_0130</td>\n      <td>-1.009127e+08</td>\n      <td>271875</td>\n      <td>NaN</td>\n      <td>-1.009127e+08</td>\n    </tr>\n  </tbody>\n</table>\n<p>987226 rows × 11 columns</p>\n</div>"
     },
     "execution_count": 19,
     "metadata": {},
     "output_type": "execute_result"
    }
   ],
   "source": [
    "df[df['BASIC_year'] == 2020]"
   ],
   "metadata": {
    "collapsed": false
   }
  },
  {
   "cell_type": "code",
   "execution_count": 20,
   "outputs": [],
   "source": [
    "df.to_csv('/Users/zhuangyuhao/PycharmProjects/SeasonRepMod/整合季报代码模型/dfs/原始科目数据_20230113.csv')"
   ],
   "metadata": {
    "collapsed": false
   }
  }
 ],
 "metadata": {
  "kernelspec": {
   "display_name": "Python 3",
   "language": "python",
   "name": "python3"
  },
  "language_info": {
   "codemirror_mode": {
    "name": "ipython",
    "version": 2
   },
   "file_extension": ".py",
   "mimetype": "text/x-python",
   "name": "python",
   "nbconvert_exporter": "python",
   "pygments_lexer": "ipython2",
   "version": "2.7.6"
  }
 },
 "nbformat": 4,
 "nbformat_minor": 0
}
