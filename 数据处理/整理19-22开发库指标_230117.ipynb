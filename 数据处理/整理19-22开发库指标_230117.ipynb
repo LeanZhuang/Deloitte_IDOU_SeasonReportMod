{
 "cells": [
  {
   "cell_type": "code",
   "execution_count": 19,
   "metadata": {
    "collapsed": true
   },
   "outputs": [],
   "source": [
    "import pandas as pd"
   ]
  },
  {
   "cell_type": "code",
   "execution_count": 20,
   "outputs": [],
   "source": [
    "path = '~/PycharmProjects/SeasonRepMod/'"
   ],
   "metadata": {
    "collapsed": false
   }
  },
  {
   "cell_type": "code",
   "execution_count": 21,
   "outputs": [],
   "source": [
    "df1901 = pd.read_excel(path + '整合季报代码模型/后台指标原始数据/开发库/查询季报数据202201.xlsx')\n",
    "df1902 = pd.read_excel(path + '整合季报代码模型/后台指标原始数据/开发库/查询季报数据202202.xlsx')\n",
    "df1903 = pd.read_excel(path + '整合季报代码模型/后台指标原始数据/开发库/查询季报数据202203.xlsx')\n",
    "# df1904 = pd.read_excel(path + '整合季报代码模型/后台指标原始数据/开发库/查询季报数据202204.xlsx')\n",
    "df_industry = pd.read_csv(path + '整合季报代码模型/meta_code/fin_entity.csv')\n",
    "df_factor = pd.read_excel(path + '整合季报代码模型/后台指标原始数据/开发库/total_factor_dict.xlsx')"
   ],
   "metadata": {
    "collapsed": false
   }
  },
  {
   "cell_type": "code",
   "execution_count": 22,
   "outputs": [
    {
     "data": {
      "text/plain": "item_code                BASIC_entity_name BASIC_code BASIC_industry  \\\n0          1957 & Co.(Hospitality) Limited    8495.HK           M002   \n1                             360鲁大师控股有限公司    3601.HK           M014   \n2                               361度国际有限公司    1361.HK           M007   \n3                              A8新媒体集团有限公司    0800.HK           M014   \n4                            ASMPT Limited    0522.HK           M014   \n...                                    ...        ...            ...   \n18872                         龙芯中科技术股份有限公司  688047.SH           M001   \n18873                         龙芯中科技术股份有限公司  688047.SH           M001   \n18874                        龙记(百慕达)集团有限公司    0255.HK           M008   \n18875                              龙资源有限公司    1712.HK           M003   \n18876                           龙辉国际控股有限公司    1007.HK           M002   \n\nitem_code  BASIC_year  BASIC_quarter  NaN  QW_ACCOUNTSRECEIVABLETURNOVER  \\\n0                 NaN            NaN  NaN                            NaN   \n1                 NaN            NaN  NaN                            NaN   \n2                 NaN            NaN  NaN                            NaN   \n3                 NaN            NaN  NaN                            NaN   \n4                 NaN            NaN  NaN                            NaN   \n...               ...            ...  ...                            ...   \n18872          2022.0            2.0  NaN                 -999999.999900   \n18873          2022.0            3.0  NaN                       0.867566   \n18874             NaN            NaN  NaN                            NaN   \n18875             NaN            NaN  NaN                            NaN   \n18876             NaN            NaN  NaN                            NaN   \n\nitem_code  QW_ACCOUNTSRECEIVABLETURNOVER_DELTA  \\\n0                                          NaN   \n1                                          NaN   \n2                                          NaN   \n3                                          NaN   \n4                                          NaN   \n...                                        ...   \n18872                             -999999.9999   \n18873                             -999999.9999   \n18874                                      NaN   \n18875                                      NaN   \n18876                                      NaN   \n\nitem_code  QW_ACCOUNTSRECEIVABLETURNOVER_DELTA_2  \\\n0                                            NaN   \n1                                            NaN   \n2                                            NaN   \n3                                            NaN   \n4                                            NaN   \n...                                          ...   \n18872                               -999999.9999   \n18873                               -999999.9999   \n18874                                        NaN   \n18875                                        NaN   \n18876                                        NaN   \n\nitem_code  QW_ACCOUNTSRECEIVABLETURNOVER_GROWTH  ...  \\\n0                                           NaN  ...   \n1                                           NaN  ...   \n2                                           NaN  ...   \n3                                           NaN  ...   \n4                                           NaN  ...   \n...                                         ...  ...   \n18872                              -999999.9999  ...   \n18873                              -999999.9999  ...   \n18874                                       NaN  ...   \n18875                                       NaN  ...   \n18876                                       NaN  ...   \n\nitem_code  QW_SELLEXPENSE_RATIO_DELTA  QW_SHORTBORROWING_RATIO  \\\n0                                 NaN                      NaN   \n1                                 NaN                      NaN   \n2                                 NaN                      NaN   \n3                                 NaN                      NaN   \n4                                 NaN                      NaN   \n...                               ...                      ...   \n18872                  -999999.999900             -999999.9999   \n18873                        0.016137             -999999.9999   \n18874                             NaN                      NaN   \n18875                             NaN                      NaN   \n18876                             NaN                      NaN   \n\nitem_code  QW_SHORTBORROWING_RATIO_DELTA  QW_STOCK_RATIO  \\\n0                                    NaN             NaN   \n1                                    NaN             NaN   \n2                                    NaN             NaN   \n3                                    NaN             NaN   \n4                                    NaN             NaN   \n...                                  ...             ...   \n18872                       -999999.9999        0.129420   \n18873                       -999999.9999        0.143554   \n18874                                NaN             NaN   \n18875                                NaN             NaN   \n18876                                NaN             NaN   \n\nitem_code  QW_STOCK_RATIO_DELTA  QW_TOTALASSETTURNOVER  \\\n0                           NaN                    NaN   \n1                           NaN                    NaN   \n2                           NaN                    NaN   \n3                           NaN                    NaN   \n4                           NaN                    NaN   \n...                         ...                    ...   \n18872            -999999.999900          -999999.99990   \n18873                  0.014134                0.10977   \n18874                       NaN                    NaN   \n18875                       NaN                    NaN   \n18876                       NaN                    NaN   \n\nitem_code  QW_TOTALASSETTURNOVER_DELTA  QW_TOTALASSETTURNOVER_DELTA_2  \\\n0                                  NaN                            NaN   \n1                                  NaN                            NaN   \n2                                  NaN                            NaN   \n3                                  NaN                            NaN   \n4                                  NaN                            NaN   \n...                                ...                            ...   \n18872                     -999999.9999                   -999999.9999   \n18873                     -999999.9999                   -999999.9999   \n18874                              NaN                            NaN   \n18875                              NaN                            NaN   \n18876                              NaN                            NaN   \n\nitem_code  QW_TOTALASSETTURNOVER_GROWTH  QW_TOTALASSETTURNOVER_GROWTH_2  \n0                                   NaN                             NaN  \n1                                   NaN                             NaN  \n2                                   NaN                             NaN  \n3                                   NaN                             NaN  \n4                                   NaN                             NaN  \n...                                 ...                             ...  \n18872                      -999999.9999                    -999999.9999  \n18873                      -999999.9999                    -999999.9999  \n18874                               NaN                             NaN  \n18875                               NaN                             NaN  \n18876                               NaN                             NaN  \n\n[18877 rows x 196 columns]",
      "text/html": "<div>\n<style scoped>\n    .dataframe tbody tr th:only-of-type {\n        vertical-align: middle;\n    }\n\n    .dataframe tbody tr th {\n        vertical-align: top;\n    }\n\n    .dataframe thead th {\n        text-align: right;\n    }\n</style>\n<table border=\"1\" class=\"dataframe\">\n  <thead>\n    <tr style=\"text-align: right;\">\n      <th>item_code</th>\n      <th>BASIC_entity_name</th>\n      <th>BASIC_code</th>\n      <th>BASIC_industry</th>\n      <th>BASIC_year</th>\n      <th>BASIC_quarter</th>\n      <th>NaN</th>\n      <th>QW_ACCOUNTSRECEIVABLETURNOVER</th>\n      <th>QW_ACCOUNTSRECEIVABLETURNOVER_DELTA</th>\n      <th>QW_ACCOUNTSRECEIVABLETURNOVER_DELTA_2</th>\n      <th>QW_ACCOUNTSRECEIVABLETURNOVER_GROWTH</th>\n      <th>...</th>\n      <th>QW_SELLEXPENSE_RATIO_DELTA</th>\n      <th>QW_SHORTBORROWING_RATIO</th>\n      <th>QW_SHORTBORROWING_RATIO_DELTA</th>\n      <th>QW_STOCK_RATIO</th>\n      <th>QW_STOCK_RATIO_DELTA</th>\n      <th>QW_TOTALASSETTURNOVER</th>\n      <th>QW_TOTALASSETTURNOVER_DELTA</th>\n      <th>QW_TOTALASSETTURNOVER_DELTA_2</th>\n      <th>QW_TOTALASSETTURNOVER_GROWTH</th>\n      <th>QW_TOTALASSETTURNOVER_GROWTH_2</th>\n    </tr>\n  </thead>\n  <tbody>\n    <tr>\n      <th>0</th>\n      <td>1957 &amp; Co.(Hospitality) Limited</td>\n      <td>8495.HK</td>\n      <td>M002</td>\n      <td>NaN</td>\n      <td>NaN</td>\n      <td>NaN</td>\n      <td>NaN</td>\n      <td>NaN</td>\n      <td>NaN</td>\n      <td>NaN</td>\n      <td>...</td>\n      <td>NaN</td>\n      <td>NaN</td>\n      <td>NaN</td>\n      <td>NaN</td>\n      <td>NaN</td>\n      <td>NaN</td>\n      <td>NaN</td>\n      <td>NaN</td>\n      <td>NaN</td>\n      <td>NaN</td>\n    </tr>\n    <tr>\n      <th>1</th>\n      <td>360鲁大师控股有限公司</td>\n      <td>3601.HK</td>\n      <td>M014</td>\n      <td>NaN</td>\n      <td>NaN</td>\n      <td>NaN</td>\n      <td>NaN</td>\n      <td>NaN</td>\n      <td>NaN</td>\n      <td>NaN</td>\n      <td>...</td>\n      <td>NaN</td>\n      <td>NaN</td>\n      <td>NaN</td>\n      <td>NaN</td>\n      <td>NaN</td>\n      <td>NaN</td>\n      <td>NaN</td>\n      <td>NaN</td>\n      <td>NaN</td>\n      <td>NaN</td>\n    </tr>\n    <tr>\n      <th>2</th>\n      <td>361度国际有限公司</td>\n      <td>1361.HK</td>\n      <td>M007</td>\n      <td>NaN</td>\n      <td>NaN</td>\n      <td>NaN</td>\n      <td>NaN</td>\n      <td>NaN</td>\n      <td>NaN</td>\n      <td>NaN</td>\n      <td>...</td>\n      <td>NaN</td>\n      <td>NaN</td>\n      <td>NaN</td>\n      <td>NaN</td>\n      <td>NaN</td>\n      <td>NaN</td>\n      <td>NaN</td>\n      <td>NaN</td>\n      <td>NaN</td>\n      <td>NaN</td>\n    </tr>\n    <tr>\n      <th>3</th>\n      <td>A8新媒体集团有限公司</td>\n      <td>0800.HK</td>\n      <td>M014</td>\n      <td>NaN</td>\n      <td>NaN</td>\n      <td>NaN</td>\n      <td>NaN</td>\n      <td>NaN</td>\n      <td>NaN</td>\n      <td>NaN</td>\n      <td>...</td>\n      <td>NaN</td>\n      <td>NaN</td>\n      <td>NaN</td>\n      <td>NaN</td>\n      <td>NaN</td>\n      <td>NaN</td>\n      <td>NaN</td>\n      <td>NaN</td>\n      <td>NaN</td>\n      <td>NaN</td>\n    </tr>\n    <tr>\n      <th>4</th>\n      <td>ASMPT Limited</td>\n      <td>0522.HK</td>\n      <td>M014</td>\n      <td>NaN</td>\n      <td>NaN</td>\n      <td>NaN</td>\n      <td>NaN</td>\n      <td>NaN</td>\n      <td>NaN</td>\n      <td>NaN</td>\n      <td>...</td>\n      <td>NaN</td>\n      <td>NaN</td>\n      <td>NaN</td>\n      <td>NaN</td>\n      <td>NaN</td>\n      <td>NaN</td>\n      <td>NaN</td>\n      <td>NaN</td>\n      <td>NaN</td>\n      <td>NaN</td>\n    </tr>\n    <tr>\n      <th>...</th>\n      <td>...</td>\n      <td>...</td>\n      <td>...</td>\n      <td>...</td>\n      <td>...</td>\n      <td>...</td>\n      <td>...</td>\n      <td>...</td>\n      <td>...</td>\n      <td>...</td>\n      <td>...</td>\n      <td>...</td>\n      <td>...</td>\n      <td>...</td>\n      <td>...</td>\n      <td>...</td>\n      <td>...</td>\n      <td>...</td>\n      <td>...</td>\n      <td>...</td>\n      <td>...</td>\n    </tr>\n    <tr>\n      <th>18872</th>\n      <td>龙芯中科技术股份有限公司</td>\n      <td>688047.SH</td>\n      <td>M001</td>\n      <td>2022.0</td>\n      <td>2.0</td>\n      <td>NaN</td>\n      <td>-999999.999900</td>\n      <td>-999999.9999</td>\n      <td>-999999.9999</td>\n      <td>-999999.9999</td>\n      <td>...</td>\n      <td>-999999.999900</td>\n      <td>-999999.9999</td>\n      <td>-999999.9999</td>\n      <td>0.129420</td>\n      <td>-999999.999900</td>\n      <td>-999999.99990</td>\n      <td>-999999.9999</td>\n      <td>-999999.9999</td>\n      <td>-999999.9999</td>\n      <td>-999999.9999</td>\n    </tr>\n    <tr>\n      <th>18873</th>\n      <td>龙芯中科技术股份有限公司</td>\n      <td>688047.SH</td>\n      <td>M001</td>\n      <td>2022.0</td>\n      <td>3.0</td>\n      <td>NaN</td>\n      <td>0.867566</td>\n      <td>-999999.9999</td>\n      <td>-999999.9999</td>\n      <td>-999999.9999</td>\n      <td>...</td>\n      <td>0.016137</td>\n      <td>-999999.9999</td>\n      <td>-999999.9999</td>\n      <td>0.143554</td>\n      <td>0.014134</td>\n      <td>0.10977</td>\n      <td>-999999.9999</td>\n      <td>-999999.9999</td>\n      <td>-999999.9999</td>\n      <td>-999999.9999</td>\n    </tr>\n    <tr>\n      <th>18874</th>\n      <td>龙记(百慕达)集团有限公司</td>\n      <td>0255.HK</td>\n      <td>M008</td>\n      <td>NaN</td>\n      <td>NaN</td>\n      <td>NaN</td>\n      <td>NaN</td>\n      <td>NaN</td>\n      <td>NaN</td>\n      <td>NaN</td>\n      <td>...</td>\n      <td>NaN</td>\n      <td>NaN</td>\n      <td>NaN</td>\n      <td>NaN</td>\n      <td>NaN</td>\n      <td>NaN</td>\n      <td>NaN</td>\n      <td>NaN</td>\n      <td>NaN</td>\n      <td>NaN</td>\n    </tr>\n    <tr>\n      <th>18875</th>\n      <td>龙资源有限公司</td>\n      <td>1712.HK</td>\n      <td>M003</td>\n      <td>NaN</td>\n      <td>NaN</td>\n      <td>NaN</td>\n      <td>NaN</td>\n      <td>NaN</td>\n      <td>NaN</td>\n      <td>NaN</td>\n      <td>...</td>\n      <td>NaN</td>\n      <td>NaN</td>\n      <td>NaN</td>\n      <td>NaN</td>\n      <td>NaN</td>\n      <td>NaN</td>\n      <td>NaN</td>\n      <td>NaN</td>\n      <td>NaN</td>\n      <td>NaN</td>\n    </tr>\n    <tr>\n      <th>18876</th>\n      <td>龙辉国际控股有限公司</td>\n      <td>1007.HK</td>\n      <td>M002</td>\n      <td>NaN</td>\n      <td>NaN</td>\n      <td>NaN</td>\n      <td>NaN</td>\n      <td>NaN</td>\n      <td>NaN</td>\n      <td>NaN</td>\n      <td>...</td>\n      <td>NaN</td>\n      <td>NaN</td>\n      <td>NaN</td>\n      <td>NaN</td>\n      <td>NaN</td>\n      <td>NaN</td>\n      <td>NaN</td>\n      <td>NaN</td>\n      <td>NaN</td>\n      <td>NaN</td>\n    </tr>\n  </tbody>\n</table>\n<p>18877 rows × 196 columns</p>\n</div>"
     },
     "execution_count": 22,
     "metadata": {},
     "output_type": "execute_result"
    }
   ],
   "source": [
    "df18 = pd.concat([df1901, df1902, df1903])\n",
    "df18 = df18[['entity_name', 'year', 'quarterly', 'factor_id', 'finnal_value']]\n",
    "df_industry_need = df_industry[['entity_name', 'industry_whitewash', 'stock_name', 'stock_code']]\n",
    "df18 = pd.merge(df18, df_industry_need, on='entity_name', how='outer')\n",
    "df18 = pd.merge(df18, df_factor, on='factor_id', how='left')\n",
    "df18.drop('stock_name', inplace=True, axis=1)\n",
    "df18.drop('factor_id', inplace=True, axis=1)\n",
    "df18.drop('item_name', inplace=True, axis=1)\n",
    "df18.rename(columns={'entity_name':'BASIC_entity_name',\n",
    "                     'stock_code':'BASIC_code',\n",
    "                     'year':'BASIC_year',\n",
    "                     'quarterly':'BASIC_quarter',\n",
    "                     'finnal_value':'end_value',\n",
    "                     'industry_whitewash':'BASIC_industry'},\n",
    "            inplace=True)\n",
    "df18 = df18[['BASIC_entity_name',\n",
    "             'BASIC_code',\n",
    "             'BASIC_industry',\n",
    "             'BASIC_year',\n",
    "             'BASIC_quarter',\n",
    "             'item_code',\n",
    "             'end_value']]\n",
    "df18.drop_duplicates(subset=[\"BASIC_entity_name\", \"BASIC_code\", \"BASIC_year\", \"BASIC_quarter\", \"item_code\"], keep='first', inplace=True)\n",
    "df18 = df18.pivot(index=['BASIC_entity_name', 'BASIC_code', 'BASIC_industry', 'BASIC_year', 'BASIC_quarter'], #以主体划分\n",
    "                  columns='item_code',\n",
    "                  values='end_value').reset_index()\n",
    "df18"
   ],
   "metadata": {
    "collapsed": false
   }
  },
  {
   "cell_type": "code",
   "execution_count": 23,
   "outputs": [],
   "source": [
    "df18.to_excel(path + '整合季报代码模型/整合后台数据/开发库/df22.xlsx')"
   ],
   "metadata": {
    "collapsed": false
   }
  },
  {
   "cell_type": "code",
   "execution_count": 23,
   "outputs": [],
   "source": [],
   "metadata": {
    "collapsed": false
   }
  }
 ],
 "metadata": {
  "kernelspec": {
   "display_name": "Python 3",
   "language": "python",
   "name": "python3"
  },
  "language_info": {
   "codemirror_mode": {
    "name": "ipython",
    "version": 2
   },
   "file_extension": ".py",
   "mimetype": "text/x-python",
   "name": "python",
   "nbconvert_exporter": "python",
   "pygments_lexer": "ipython2",
   "version": "2.7.6"
  }
 },
 "nbformat": 4,
 "nbformat_minor": 0
}
