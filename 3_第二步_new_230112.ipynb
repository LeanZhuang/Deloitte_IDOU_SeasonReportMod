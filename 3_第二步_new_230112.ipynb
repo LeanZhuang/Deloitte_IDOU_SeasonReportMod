{
 "cells": [
  {
   "cell_type": "code",
   "execution_count": 112,
   "metadata": {
    "collapsed": true
   },
   "outputs": [],
   "source": [
    "# Library packages\n",
    "import pandas as pd\n",
    "import numpy as np\n",
    "from datetime import date\n",
    "import sys"
   ]
  },
  {
   "cell_type": "markdown",
   "source": [
    "# 数据读取"
   ],
   "metadata": {
    "collapsed": false
   }
  },
  {
   "cell_type": "code",
   "execution_count": 113,
   "outputs": [],
   "source": [
    "input_df1 = '/Users/zhuangyuhao/PycharmProjects/SeasonRepMod/整合季报代码模型/dfs/原始科目数据_20230104.csv'\n",
    "# input_df2 = '/Users/zhuangyuhao/PycharmProjects/SeasonRepMod/整合季报代码模型/整合后台数据/后台指标20Q1_22Q3_230113.csv'  # 后台指标\n",
    "\n",
    "input_df2 = '/Users/zhuangyuhao/PycharmProjects/SeasonRepMod/整合季报代码模型/dfs/指标计算结果_20230116.csv'  # 测试自己算的指标\n",
    "\n",
    "input_df3 = '/Users/zhuangyuhao/PycharmProjects/SeasonRepMod/整合季报代码模型/meta_code/分行业阈值触发表_20220926.xlsx'  # 后台阈值\n",
    "output_df = '/Users/zhuangyuhao/PycharmProjects/SeasonRepMod/整合季报代码模型/dfs/22Q1_触发项目及触发等级_20230116_自己的指标.xlsx'\n",
    "\n",
    "year_cmp = int(2022)\n",
    "quarter_cmp = int(1)\n",
    "\n",
    "path_dfs = r\"dfs/\"\n",
    "path_input = r\"input/\""
   ],
   "metadata": {
    "collapsed": false
   }
  },
  {
   "cell_type": "code",
   "execution_count": 114,
   "outputs": [],
   "source": [
    "# 导入阈值触发表\n",
    "df_threshold = pd.read_excel(input_df3)\n",
    "# 导入指标数据\n",
    "df_data = pd.read_csv(input_df2)\n",
    "# 指标异常值处理规则字段导入\n",
    "formu = pd.read_excel(path_input+\"触发判断数据字典.xlsx\")  # 倘若数据字典的名称有修改，在这里更改\n",
    "# 数据清洗\n",
    "df_threshold_clean = df_threshold[['季度', '指标代码', '项目代码', 'industry', 'general_trigger', 'high_trigger']].drop_duplicates()\n",
    "df_threshold_clean = pd.merge(df_threshold_clean, formu[['项目代码', 'category']], on='项目代码', how='left')\n",
    "\n",
    "df_data_clean = df_data.rename({\"BASIC_entity_name\": \"entity_name\", \"BASIC_code\": \"code\", \"BASIC_industry\": \"industry\", \"BASIC_year\": \"year\", \"BASIC_quarter\": \"季度\"}, axis=1)\n",
    "df_data_clean = df_data_clean.replace(-999999.9999, np.nan)"
   ],
   "metadata": {
    "collapsed": false
   }
  },
  {
   "cell_type": "code",
   "execution_count": 115,
   "outputs": [],
   "source": [
    "# 导入需要计算的指标年份与季度\n",
    "df_data = df_data.loc[(df_data['BASIC_year'] == year_cmp) & (df_data['BASIC_quarter'] == quarter_cmp)]\n",
    "df_data=df_data.drop_duplicates(subset=[\"BASIC_entity_name\",  \"BASIC_year\", \"BASIC_code\", 'BASIC_quarter'], keep=\"first\")\n",
    "df_data = pd.melt(df_data,\n",
    "                  id_vars=df_data.columns[:6],\n",
    "                  value_vars=df_data.columns[6:],\n",
    "                  var_name='code',\n",
    "                  value_name='finnal_value')"
   ],
   "metadata": {
    "collapsed": false
   }
  },
  {
   "cell_type": "code",
   "execution_count": 116,
   "outputs": [],
   "source": [
    "# 筛选需要触发的指标\n",
    "indicator_lst = list(set(df_threshold_clean['指标代码']))\n",
    "df_data = df_data[df_data['code'].isin(indicator_lst)]\n",
    "df_data =df_data.drop_duplicates()"
   ],
   "metadata": {
    "collapsed": false
   }
  },
  {
   "cell_type": "code",
   "execution_count": 117,
   "outputs": [],
   "source": [
    "# merge项目代码与判断规则分类\n",
    "# df_data.drop(columns='Unnamed: 0', inplace=True)  # 后台指标需要\n",
    "df_data_comb = pd.merge(df_data,\n",
    "                        df_threshold_clean.drop_duplicates(),\n",
    "                        how='left',\n",
    "                        left_on=['code','BASIC_quarter','BASIC_industry'],\n",
    "                        right_on=['指标代码','季度','industry'])\n",
    "\n",
    "df_data_comb.drop(columns=['季度','指标代码','industry'],inplace=True)"
   ],
   "metadata": {
    "collapsed": false
   }
  },
  {
   "cell_type": "code",
   "execution_count": 118,
   "outputs": [],
   "source": [
    "df_data_comb.drop(columns='byear(PF_0102)', inplace=True)  # 自己计算的指标需要"
   ],
   "metadata": {
    "collapsed": false
   }
  },
  {
   "cell_type": "code",
   "execution_count": 119,
   "outputs": [],
   "source": [
    "df_data_comb.columns = [\"entity_name\", \"stock_code\", \"industry_whitewash\", \"year\", \"季度\", \"indicators\",\"finnal_value\", \"code\", \"general_trigger\", \"high_trigger\", \"category\"]\n",
    "df_data_comb = df_data_comb.replace([-999999.9999], np.nan)"
   ],
   "metadata": {
    "collapsed": false
   }
  },
  {
   "cell_type": "markdown",
   "source": [
    "# 计算触发结果"
   ],
   "metadata": {
    "collapsed": false
   }
  },
  {
   "cell_type": "code",
   "execution_count": 120,
   "outputs": [],
   "source": [
    "# 按判断规则拆分数据\n",
    "df_category_0 = df_data_comb.loc[df_data_comb['category'] == 0]\n",
    "df_category_1 = df_data_comb.loc[df_data_comb['category'] == 1]\n",
    "df_category_2 = df_data_comb.loc[df_data_comb['category'] == 2]\n",
    "df_category_3 = df_data_comb.loc[df_data_comb['category'] == 3]\n",
    "df_category_4 = df_data_comb.loc[df_data_comb['category'] == 4]\n",
    "df_category_5 = df_data_comb.loc[df_data_comb['category'] == 5]\n",
    "df_category_6 = df_data_comb.loc[df_data_comb['category'] == 6]\n",
    "df_category_7 = df_data_comb.loc[df_data_comb['category'] == 7]\n",
    "df_category_8 = df_data_comb.loc[df_data_comb['category'] == 8]\n",
    "df_category_9 = df_data_comb.loc[df_data_comb['category'] == 9]\n",
    "df_category_10 = df_data_comb.loc[df_data_comb['category'] == 10]\n",
    "df_category_11 = df_data_comb.loc[df_data_comb['category'] == 11]\n",
    "df_category_12 = df_data_comb.loc[df_data_comb['category'] == 12]"
   ],
   "metadata": {
    "collapsed": false
   }
  },
  {
   "cell_type": "markdown",
   "source": [
    "## 1.低于0 —— 已查"
   ],
   "metadata": {
    "collapsed": false
   }
  },
  {
   "cell_type": "code",
   "execution_count": 121,
   "outputs": [
    {
     "name": "stderr",
     "output_type": "stream",
     "text": [
      "/var/folders/21/r5tywv_91vz_8s1tgrs4qpjm0000gn/T/ipykernel_17714/926852373.py:1: SettingWithCopyWarning: \n",
      "A value is trying to be set on a copy of a slice from a DataFrame.\n",
      "Try using .loc[row_indexer,col_indexer] = value instead\n",
      "\n",
      "See the caveats in the documentation: https://pandas.pydata.org/pandas-docs/stable/user_guide/indexing.html#returning-a-view-versus-a-copy\n",
      "  df_category_0['is_high_trigger'] = np.where(df_category_0['finnal_value'] < 0, True, False)\n",
      "/var/folders/21/r5tywv_91vz_8s1tgrs4qpjm0000gn/T/ipykernel_17714/926852373.py:2: SettingWithCopyWarning: \n",
      "A value is trying to be set on a copy of a slice from a DataFrame.\n",
      "Try using .loc[row_indexer,col_indexer] = value instead\n",
      "\n",
      "See the caveats in the documentation: https://pandas.pydata.org/pandas-docs/stable/user_guide/indexing.html#returning-a-view-versus-a-copy\n",
      "  df_category_0['is_general_trigger'] = False\n"
     ]
    }
   ],
   "source": [
    "df_category_0['is_high_trigger'] = np.where(df_category_0['finnal_value'] < 0, True, False)\n",
    "df_category_0['is_general_trigger'] = False"
   ],
   "metadata": {
    "collapsed": false
   }
  },
  {
   "cell_type": "code",
   "execution_count": 122,
   "outputs": [
    {
     "name": "stderr",
     "output_type": "stream",
     "text": [
      "/var/folders/21/r5tywv_91vz_8s1tgrs4qpjm0000gn/T/ipykernel_17714/3395861643.py:1: SettingWithCopyWarning: \n",
      "A value is trying to be set on a copy of a slice from a DataFrame.\n",
      "Try using .loc[row_indexer,col_indexer] = value instead\n",
      "\n",
      "See the caveats in the documentation: https://pandas.pydata.org/pandas-docs/stable/user_guide/indexing.html#returning-a-view-versus-a-copy\n",
      "  df_category_2['is_high_trigger'] = False\n",
      "/var/folders/21/r5tywv_91vz_8s1tgrs4qpjm0000gn/T/ipykernel_17714/3395861643.py:2: SettingWithCopyWarning: \n",
      "A value is trying to be set on a copy of a slice from a DataFrame.\n",
      "Try using .loc[row_indexer,col_indexer] = value instead\n",
      "\n",
      "See the caveats in the documentation: https://pandas.pydata.org/pandas-docs/stable/user_guide/indexing.html#returning-a-view-versus-a-copy\n",
      "  df_category_2['is_general_trigger'] = np.where(df_category_2['finnal_value'] < 0, True, False)\n"
     ]
    }
   ],
   "source": [
    "df_category_2['is_high_trigger'] = False\n",
    "df_category_2['is_general_trigger'] = np.where(df_category_2['finnal_value'] < 0, True, False)"
   ],
   "metadata": {
    "collapsed": false
   }
  },
  {
   "cell_type": "markdown",
   "source": [
    "## 2.上期>0，本期<0"
   ],
   "metadata": {
    "collapsed": false
   }
  },
  {
   "cell_type": "code",
   "execution_count": 123,
   "outputs": [],
   "source": [
    "df_category_3 = df_category_3.sort_values(by=[\"indicators\", \"entity_name\", \"year\", \"季度\", \"code\"]).reset_index()\n",
    "\n",
    "# 该分类仅涉及两个指标，因此这里直接提取这两个指标字段进行计算\n",
    "\n",
    "lst = ['entity_name', 'QW_OPERATINGCASHFLOW', 'QW_RANGE_OPERATINGCASHFLOW']\n",
    "lst = [variable for variable in lst if variable in list(df_data_clean)]\n",
    "\n",
    "df3_merge1 = df_data_clean[lst].loc[(df_data_clean['year'] == year_cmp) & (df_data_clean['季度'] == quarter_cmp-1)]\n",
    "\n",
    "# 防止第一季度出现上期为第0季度的情况，引入下列判断：\n",
    "df3_merge2 = df_data_clean[lst].loc[(df_data_clean['year'] == year_cmp-1) & (df_data_clean['季度'] == 4)]\n",
    "\n",
    "df3_merge1 = pd.melt(df3_merge1,\n",
    "                     id_vars = df3_merge1.columns[:1],\n",
    "                     value_vars = df3_merge1.columns[1:],\n",
    "                     var_name = 'indicators',\n",
    "                     value_name = 'finnal_value_last')\n",
    "df3_merge2 = pd.melt(df3_merge2,\n",
    "                     id_vars = df3_merge2.columns[:1],\n",
    "                     value_vars = df3_merge2.columns[1:],\n",
    "                     var_name = 'indicators',\n",
    "                     value_name = 'finnal_value_last')\n",
    "\n",
    "if df3_merge1.shape == (0, 3):  # 如果df3出现第0季度，应该没有数据，则切换为往期第四季度数据\n",
    "    df3_merge1 = df3_merge2\n",
    "\n",
    "df_category_3 = pd.merge(df_category_3, df3_merge1, how='left', on=['entity_name', 'indicators'])\n",
    "df_category_3['is_general_trigger'] = np.where((df_category_3['finnal_value'] < 0)&(df_category_3[\"finnal_value_last\"] > 0), True, False)\n",
    "df_category_3['is_high_trigger'] = False\n",
    "\n",
    "df_category_3 = df_category_3[[\"entity_name\", \"stock_code\", \"industry_whitewash\", \"year\", \"季度\", \"code\", \"finnal_value\", 'general_trigger','high_trigger', \"category\", \"is_high_trigger\", \"is_general_trigger\"]]"
   ],
   "metadata": {
    "collapsed": false
   }
  },
  {
   "cell_type": "markdown",
   "source": [
    "## 3.连续三年<0"
   ],
   "metadata": {
    "collapsed": false
   }
  },
  {
   "cell_type": "code",
   "execution_count": 124,
   "outputs": [],
   "source": [
    "# 将去年与前年同期值merge到数据中，便于执行判断\n",
    "\n",
    "df1_merge1 = df_data_clean[lst].loc[(df_data_clean['year']== year_cmp-1) & (df_data_clean['季度']==quarter_cmp)]\n",
    "df1_merge2 = df_data_clean[lst].loc[(df_data_clean['year']== year_cmp-2) & (df_data_clean['季度']==quarter_cmp)]"
   ],
   "metadata": {
    "collapsed": false
   }
  },
  {
   "cell_type": "code",
   "execution_count": 125,
   "outputs": [],
   "source": [
    "df1_merge1 = pd.melt(df1_merge1,\n",
    "                     id_vars=df1_merge1.columns[:1],\n",
    "                     value_vars=df1_merge1.columns[1:],\n",
    "                     var_name='indicators',\n",
    "                     value_name='finnal_value_lag')\n",
    "df1_merge2 = pd.melt(df1_merge2,\n",
    "                     id_vars=df1_merge2.columns[:1],\n",
    "                     value_vars=df1_merge2.columns[1:],\n",
    "                     var_name='indicators',\n",
    "                     value_name='finnal_value_btlag')\n",
    "df_category_1= pd.merge(df_category_1,df1_merge1,how='left',on=['entity_name','indicators'])\n",
    "df_category_1= pd.merge(df_category_1,df1_merge2,how='left',on=['entity_name','indicators'])\n",
    "df_category_1 = df_category_1.sort_values(by=[ \"indicators\",\"entity_name\",\"year\", \"季度\",\"code\"]).reset_index()\n",
    "df_category_1['is_high_trigger'] = np.where((df_category_1['finnal_value'] < 0)&\n",
    "                                            (df_category_1[\"finnal_value_lag\"] < 0)&\n",
    "                                            (df_category_1[\"finnal_value_btlag\"] < 0), True, False)\n",
    "df_category_1['is_general_trigger'] = False"
   ],
   "metadata": {
    "collapsed": false
   }
  },
  {
   "cell_type": "code",
   "execution_count": 126,
   "outputs": [],
   "source": [
    "df_category_1 = df_category_1[[\"entity_name\", \"stock_code\", \"industry_whitewash\", \"year\", \"季度\", \"code\", \"finnal_value\", 'general_trigger','high_trigger', \"category\", \"is_high_trigger\", \"is_general_trigger\"]]"
   ],
   "metadata": {
    "collapsed": false
   }
  },
  {
   "cell_type": "markdown",
   "source": [
    "## 4.减半差值>0，完整差值>0 —— 已查（存在问题）"
   ],
   "metadata": {
    "collapsed": false
   }
  },
  {
   "cell_type": "markdown",
   "source": [
    "* 存在问题：\n",
    "* 根据指标计算字典，仅存在一个指标：完整差值\n",
    "* 因此程序逻辑只有高危触发\n",
    "* 与后台逻辑不符\n",
    "* 本次修改仅按照程序逻辑修改"
   ],
   "metadata": {
    "collapsed": false
   }
  },
  {
   "cell_type": "code",
   "execution_count": 127,
   "outputs": [
    {
     "name": "stderr",
     "output_type": "stream",
     "text": [
      "/var/folders/21/r5tywv_91vz_8s1tgrs4qpjm0000gn/T/ipykernel_17714/2518411346.py:1: SettingWithCopyWarning: \n",
      "A value is trying to be set on a copy of a slice from a DataFrame.\n",
      "Try using .loc[row_indexer,col_indexer] = value instead\n",
      "\n",
      "See the caveats in the documentation: https://pandas.pydata.org/pandas-docs/stable/user_guide/indexing.html#returning-a-view-versus-a-copy\n",
      "  df_category_4['finnal_value1'] = df_category_4['finnal_value'].apply(lambda x: x.strip('[').strip(']'))\n",
      "/var/folders/21/r5tywv_91vz_8s1tgrs4qpjm0000gn/T/ipykernel_17714/2518411346.py:2: SettingWithCopyWarning: \n",
      "A value is trying to be set on a copy of a slice from a DataFrame.\n",
      "Try using .loc[row_indexer,col_indexer] = value instead\n",
      "\n",
      "See the caveats in the documentation: https://pandas.pydata.org/pandas-docs/stable/user_guide/indexing.html#returning-a-view-versus-a-copy\n",
      "  df_category_4['finnal_value2'] = df_category_4['finnal_value1'].apply(lambda x: x.split(', '))\n",
      "/var/folders/21/r5tywv_91vz_8s1tgrs4qpjm0000gn/T/ipykernel_17714/2518411346.py:3: SettingWithCopyWarning: \n",
      "A value is trying to be set on a copy of a slice from a DataFrame.\n",
      "Try using .loc[row_indexer,col_indexer] = value instead\n",
      "\n",
      "See the caveats in the documentation: https://pandas.pydata.org/pandas-docs/stable/user_guide/indexing.html#returning-a-view-versus-a-copy\n",
      "  df_category_4['finnal_value3'] = df_category_4['finnal_value2'].apply(lambda x: float(x[0]))\n",
      "/var/folders/21/r5tywv_91vz_8s1tgrs4qpjm0000gn/T/ipykernel_17714/2518411346.py:4: SettingWithCopyWarning: \n",
      "A value is trying to be set on a copy of a slice from a DataFrame.\n",
      "Try using .loc[row_indexer,col_indexer] = value instead\n",
      "\n",
      "See the caveats in the documentation: https://pandas.pydata.org/pandas-docs/stable/user_guide/indexing.html#returning-a-view-versus-a-copy\n",
      "  df_category_4['finnal_value4'] = df_category_4['finnal_value2'].apply(lambda x: float(x[1]))\n"
     ]
    },
    {
     "data": {
      "text/plain": "        entity_name    stock_code industry_whitewash  year  季度  \\\n0     TCL科技集团股份有限公司     000100.SZ               M001  2022   1   \n1       一品红药业股份有限公司     300723.SZ               M017  2022   1   \n2     一心堂药业集团股份有限公司     002727.SZ               M012  2022   1   \n3      一汽解放集团股份有限公司     000800.SZ               M013  2022   1   \n4      七丰精工科技股份有限公司     873169.BJ               M018  2022   1   \n...             ...           ...                ...   ...  ..   \n6846     龙建路桥股份有限公司     600853.SH               M006  2022   1   \n6847     龙星化工股份有限公司     002442.SZ               M005  2022   1   \n6848     龙洲集团股份有限公司     002682.SZ               M007  2022   1   \n6850   龙源电力集团股份有限公司  -999999.9999               M004  2022   1   \n6851   龙竹科技集团股份有限公司     831445.BJ               M014  2022   1   \n\n                           indicators  \\\n0     QW_NONRECURRENT_NETPROFIT_DELTA   \n1     QW_NONRECURRENT_NETPROFIT_DELTA   \n2     QW_NONRECURRENT_NETPROFIT_DELTA   \n3     QW_NONRECURRENT_NETPROFIT_DELTA   \n4     QW_NONRECURRENT_NETPROFIT_DELTA   \n...                               ...   \n6846  QW_NONRECURRENT_NETPROFIT_DELTA   \n6847  QW_NONRECURRENT_NETPROFIT_DELTA   \n6848  QW_NONRECURRENT_NETPROFIT_DELTA   \n6850  QW_NONRECURRENT_NETPROFIT_DELTA   \n6851  QW_NONRECURRENT_NETPROFIT_DELTA   \n\n                                   finnal_value           code  \\\n0                 [-1604989819.0, -432005443.5]  Q1_PP_009_O01   \n1                 [-65067835.99, -28219095.015]  Q1_PP_009_O01   \n2           [-159736582.72, -72198999.36500001]  Q1_PP_009_O01   \n3         [-387674220.34000003, -161594051.155]  Q1_PP_009_O01   \n4     [-8469132.110000001, -3920738.8800000004]  Q1_PP_009_O01   \n...                                         ...            ...   \n6846                [-7062982.79, -2940150.105]  Q1_PP_009_O01   \n6847                [-8846989.57, -3141836.415]  Q1_PP_009_O01   \n6848         [23732691.259999998, 11630353.285]  Q1_PP_009_O01   \n6850           [-2696284949.31, -1346165025.51]  Q1_PP_009_O01   \n6851         [-14118900.620000001, -5820734.92]  Q1_PP_009_O01   \n\n      general_trigger  high_trigger  category  \\\n0                 NaN           NaN       4.0   \n1                 NaN           NaN       4.0   \n2                 NaN           NaN       4.0   \n3                 NaN           NaN       4.0   \n4                 NaN           NaN       4.0   \n...               ...           ...       ...   \n6846              NaN           NaN       4.0   \n6847              NaN           NaN       4.0   \n6848              NaN           NaN       4.0   \n6850              NaN           NaN       4.0   \n6851              NaN           NaN       4.0   \n\n                                finnal_value1  \\\n0                 -1604989819.0, -432005443.5   \n1                 -65067835.99, -28219095.015   \n2           -159736582.72, -72198999.36500001   \n3         -387674220.34000003, -161594051.155   \n4     -8469132.110000001, -3920738.8800000004   \n...                                       ...   \n6846                -7062982.79, -2940150.105   \n6847                -8846989.57, -3141836.415   \n6848         23732691.259999998, 11630353.285   \n6850           -2696284949.31, -1346165025.51   \n6851         -14118900.620000001, -5820734.92   \n\n                                  finnal_value2  finnal_value3  finnal_value4  \n0                 [-1604989819.0, -432005443.5]  -1.604990e+09  -4.320054e+08  \n1                 [-65067835.99, -28219095.015]  -6.506784e+07  -2.821910e+07  \n2           [-159736582.72, -72198999.36500001]  -1.597366e+08  -7.219900e+07  \n3         [-387674220.34000003, -161594051.155]  -3.876742e+08  -1.615941e+08  \n4     [-8469132.110000001, -3920738.8800000004]  -8.469132e+06  -3.920739e+06  \n...                                         ...            ...            ...  \n6846                [-7062982.79, -2940150.105]  -7.062983e+06  -2.940150e+06  \n6847                [-8846989.57, -3141836.415]  -8.846990e+06  -3.141836e+06  \n6848         [23732691.259999998, 11630353.285]   2.373269e+07   1.163035e+07  \n6850           [-2696284949.31, -1346165025.51]  -2.696285e+09  -1.346165e+09  \n6851         [-14118900.620000001, -5820734.92]  -1.411890e+07  -5.820735e+06  \n\n[5189 rows x 15 columns]",
      "text/html": "<div>\n<style scoped>\n    .dataframe tbody tr th:only-of-type {\n        vertical-align: middle;\n    }\n\n    .dataframe tbody tr th {\n        vertical-align: top;\n    }\n\n    .dataframe thead th {\n        text-align: right;\n    }\n</style>\n<table border=\"1\" class=\"dataframe\">\n  <thead>\n    <tr style=\"text-align: right;\">\n      <th></th>\n      <th>entity_name</th>\n      <th>stock_code</th>\n      <th>industry_whitewash</th>\n      <th>year</th>\n      <th>季度</th>\n      <th>indicators</th>\n      <th>finnal_value</th>\n      <th>code</th>\n      <th>general_trigger</th>\n      <th>high_trigger</th>\n      <th>category</th>\n      <th>finnal_value1</th>\n      <th>finnal_value2</th>\n      <th>finnal_value3</th>\n      <th>finnal_value4</th>\n    </tr>\n  </thead>\n  <tbody>\n    <tr>\n      <th>0</th>\n      <td>TCL科技集团股份有限公司</td>\n      <td>000100.SZ</td>\n      <td>M001</td>\n      <td>2022</td>\n      <td>1</td>\n      <td>QW_NONRECURRENT_NETPROFIT_DELTA</td>\n      <td>[-1604989819.0, -432005443.5]</td>\n      <td>Q1_PP_009_O01</td>\n      <td>NaN</td>\n      <td>NaN</td>\n      <td>4.0</td>\n      <td>-1604989819.0, -432005443.5</td>\n      <td>[-1604989819.0, -432005443.5]</td>\n      <td>-1.604990e+09</td>\n      <td>-4.320054e+08</td>\n    </tr>\n    <tr>\n      <th>1</th>\n      <td>一品红药业股份有限公司</td>\n      <td>300723.SZ</td>\n      <td>M017</td>\n      <td>2022</td>\n      <td>1</td>\n      <td>QW_NONRECURRENT_NETPROFIT_DELTA</td>\n      <td>[-65067835.99, -28219095.015]</td>\n      <td>Q1_PP_009_O01</td>\n      <td>NaN</td>\n      <td>NaN</td>\n      <td>4.0</td>\n      <td>-65067835.99, -28219095.015</td>\n      <td>[-65067835.99, -28219095.015]</td>\n      <td>-6.506784e+07</td>\n      <td>-2.821910e+07</td>\n    </tr>\n    <tr>\n      <th>2</th>\n      <td>一心堂药业集团股份有限公司</td>\n      <td>002727.SZ</td>\n      <td>M012</td>\n      <td>2022</td>\n      <td>1</td>\n      <td>QW_NONRECURRENT_NETPROFIT_DELTA</td>\n      <td>[-159736582.72, -72198999.36500001]</td>\n      <td>Q1_PP_009_O01</td>\n      <td>NaN</td>\n      <td>NaN</td>\n      <td>4.0</td>\n      <td>-159736582.72, -72198999.36500001</td>\n      <td>[-159736582.72, -72198999.36500001]</td>\n      <td>-1.597366e+08</td>\n      <td>-7.219900e+07</td>\n    </tr>\n    <tr>\n      <th>3</th>\n      <td>一汽解放集团股份有限公司</td>\n      <td>000800.SZ</td>\n      <td>M013</td>\n      <td>2022</td>\n      <td>1</td>\n      <td>QW_NONRECURRENT_NETPROFIT_DELTA</td>\n      <td>[-387674220.34000003, -161594051.155]</td>\n      <td>Q1_PP_009_O01</td>\n      <td>NaN</td>\n      <td>NaN</td>\n      <td>4.0</td>\n      <td>-387674220.34000003, -161594051.155</td>\n      <td>[-387674220.34000003, -161594051.155]</td>\n      <td>-3.876742e+08</td>\n      <td>-1.615941e+08</td>\n    </tr>\n    <tr>\n      <th>4</th>\n      <td>七丰精工科技股份有限公司</td>\n      <td>873169.BJ</td>\n      <td>M018</td>\n      <td>2022</td>\n      <td>1</td>\n      <td>QW_NONRECURRENT_NETPROFIT_DELTA</td>\n      <td>[-8469132.110000001, -3920738.8800000004]</td>\n      <td>Q1_PP_009_O01</td>\n      <td>NaN</td>\n      <td>NaN</td>\n      <td>4.0</td>\n      <td>-8469132.110000001, -3920738.8800000004</td>\n      <td>[-8469132.110000001, -3920738.8800000004]</td>\n      <td>-8.469132e+06</td>\n      <td>-3.920739e+06</td>\n    </tr>\n    <tr>\n      <th>...</th>\n      <td>...</td>\n      <td>...</td>\n      <td>...</td>\n      <td>...</td>\n      <td>...</td>\n      <td>...</td>\n      <td>...</td>\n      <td>...</td>\n      <td>...</td>\n      <td>...</td>\n      <td>...</td>\n      <td>...</td>\n      <td>...</td>\n      <td>...</td>\n      <td>...</td>\n    </tr>\n    <tr>\n      <th>6846</th>\n      <td>龙建路桥股份有限公司</td>\n      <td>600853.SH</td>\n      <td>M006</td>\n      <td>2022</td>\n      <td>1</td>\n      <td>QW_NONRECURRENT_NETPROFIT_DELTA</td>\n      <td>[-7062982.79, -2940150.105]</td>\n      <td>Q1_PP_009_O01</td>\n      <td>NaN</td>\n      <td>NaN</td>\n      <td>4.0</td>\n      <td>-7062982.79, -2940150.105</td>\n      <td>[-7062982.79, -2940150.105]</td>\n      <td>-7.062983e+06</td>\n      <td>-2.940150e+06</td>\n    </tr>\n    <tr>\n      <th>6847</th>\n      <td>龙星化工股份有限公司</td>\n      <td>002442.SZ</td>\n      <td>M005</td>\n      <td>2022</td>\n      <td>1</td>\n      <td>QW_NONRECURRENT_NETPROFIT_DELTA</td>\n      <td>[-8846989.57, -3141836.415]</td>\n      <td>Q1_PP_009_O01</td>\n      <td>NaN</td>\n      <td>NaN</td>\n      <td>4.0</td>\n      <td>-8846989.57, -3141836.415</td>\n      <td>[-8846989.57, -3141836.415]</td>\n      <td>-8.846990e+06</td>\n      <td>-3.141836e+06</td>\n    </tr>\n    <tr>\n      <th>6848</th>\n      <td>龙洲集团股份有限公司</td>\n      <td>002682.SZ</td>\n      <td>M007</td>\n      <td>2022</td>\n      <td>1</td>\n      <td>QW_NONRECURRENT_NETPROFIT_DELTA</td>\n      <td>[23732691.259999998, 11630353.285]</td>\n      <td>Q1_PP_009_O01</td>\n      <td>NaN</td>\n      <td>NaN</td>\n      <td>4.0</td>\n      <td>23732691.259999998, 11630353.285</td>\n      <td>[23732691.259999998, 11630353.285]</td>\n      <td>2.373269e+07</td>\n      <td>1.163035e+07</td>\n    </tr>\n    <tr>\n      <th>6850</th>\n      <td>龙源电力集团股份有限公司</td>\n      <td>-999999.9999</td>\n      <td>M004</td>\n      <td>2022</td>\n      <td>1</td>\n      <td>QW_NONRECURRENT_NETPROFIT_DELTA</td>\n      <td>[-2696284949.31, -1346165025.51]</td>\n      <td>Q1_PP_009_O01</td>\n      <td>NaN</td>\n      <td>NaN</td>\n      <td>4.0</td>\n      <td>-2696284949.31, -1346165025.51</td>\n      <td>[-2696284949.31, -1346165025.51]</td>\n      <td>-2.696285e+09</td>\n      <td>-1.346165e+09</td>\n    </tr>\n    <tr>\n      <th>6851</th>\n      <td>龙竹科技集团股份有限公司</td>\n      <td>831445.BJ</td>\n      <td>M014</td>\n      <td>2022</td>\n      <td>1</td>\n      <td>QW_NONRECURRENT_NETPROFIT_DELTA</td>\n      <td>[-14118900.620000001, -5820734.92]</td>\n      <td>Q1_PP_009_O01</td>\n      <td>NaN</td>\n      <td>NaN</td>\n      <td>4.0</td>\n      <td>-14118900.620000001, -5820734.92</td>\n      <td>[-14118900.620000001, -5820734.92]</td>\n      <td>-1.411890e+07</td>\n      <td>-5.820735e+06</td>\n    </tr>\n  </tbody>\n</table>\n<p>5189 rows × 15 columns</p>\n</div>"
     },
     "execution_count": 127,
     "metadata": {},
     "output_type": "execute_result"
    }
   ],
   "source": [
    "df_category_4['finnal_value1'] = df_category_4['finnal_value'].apply(lambda x: x.strip('[').strip(']'))\n",
    "df_category_4['finnal_value2'] = df_category_4['finnal_value1'].apply(lambda x: x.split(', '))\n",
    "df_category_4['finnal_value3'] = df_category_4['finnal_value2'].apply(lambda x: float(x[0]))\n",
    "df_category_4['finnal_value4'] = df_category_4['finnal_value2'].apply(lambda x: float(x[1]))\n",
    "df_category_4"
   ],
   "metadata": {
    "collapsed": false
   }
  },
  {
   "cell_type": "code",
   "execution_count": 128,
   "outputs": [
    {
     "name": "stderr",
     "output_type": "stream",
     "text": [
      "/var/folders/21/r5tywv_91vz_8s1tgrs4qpjm0000gn/T/ipykernel_17714/2519674667.py:1: SettingWithCopyWarning: \n",
      "A value is trying to be set on a copy of a slice from a DataFrame.\n",
      "Try using .loc[row_indexer,col_indexer] = value instead\n",
      "\n",
      "See the caveats in the documentation: https://pandas.pydata.org/pandas-docs/stable/user_guide/indexing.html#returning-a-view-versus-a-copy\n",
      "  df_category_4['is_high_trigger'] = np.where(df_category_4['finnal_value3'] > 0, True, False)\n",
      "/var/folders/21/r5tywv_91vz_8s1tgrs4qpjm0000gn/T/ipykernel_17714/2519674667.py:2: SettingWithCopyWarning: \n",
      "A value is trying to be set on a copy of a slice from a DataFrame.\n",
      "Try using .loc[row_indexer,col_indexer] = value instead\n",
      "\n",
      "See the caveats in the documentation: https://pandas.pydata.org/pandas-docs/stable/user_guide/indexing.html#returning-a-view-versus-a-copy\n",
      "  df_category_4['is_general_trigger'] = np.where(df_category_4['finnal_value4'] > 0, True, False)\n"
     ]
    }
   ],
   "source": [
    "df_category_4['is_high_trigger'] = np.where(df_category_4['finnal_value3'] > 0, True, False)\n",
    "df_category_4['is_general_trigger'] = np.where(df_category_4['finnal_value4'] > 0, True, False)"
   ],
   "metadata": {
    "collapsed": false
   }
  },
  {
   "cell_type": "markdown",
   "source": [
    "##  5.监测指标 ≤【普通阈值】\t监测指标 ≤【高危阈值】"
   ],
   "metadata": {
    "collapsed": false
   }
  },
  {
   "cell_type": "code",
   "execution_count": 129,
   "outputs": [
    {
     "name": "stderr",
     "output_type": "stream",
     "text": [
      "/var/folders/21/r5tywv_91vz_8s1tgrs4qpjm0000gn/T/ipykernel_17714/453642166.py:1: SettingWithCopyWarning: \n",
      "A value is trying to be set on a copy of a slice from a DataFrame.\n",
      "Try using .loc[row_indexer,col_indexer] = value instead\n",
      "\n",
      "See the caveats in the documentation: https://pandas.pydata.org/pandas-docs/stable/user_guide/indexing.html#returning-a-view-versus-a-copy\n",
      "  df_category_5['is_high_trigger'] = np.where(df_category_5['finnal_value'] <= df_category_5['high_trigger'], True, False)\n",
      "/var/folders/21/r5tywv_91vz_8s1tgrs4qpjm0000gn/T/ipykernel_17714/453642166.py:2: SettingWithCopyWarning: \n",
      "A value is trying to be set on a copy of a slice from a DataFrame.\n",
      "Try using .loc[row_indexer,col_indexer] = value instead\n",
      "\n",
      "See the caveats in the documentation: https://pandas.pydata.org/pandas-docs/stable/user_guide/indexing.html#returning-a-view-versus-a-copy\n",
      "  df_category_5['is_general_trigger'] = np.where(df_category_5['finnal_value'] <= df_category_5['general_trigger'], True, False)\n"
     ]
    }
   ],
   "source": [
    "df_category_5['is_high_trigger'] = np.where(df_category_5['finnal_value'] <= df_category_5['high_trigger'], True, False)\n",
    "df_category_5['is_general_trigger'] = np.where(df_category_5['finnal_value'] <= df_category_5['general_trigger'], True, False)"
   ],
   "metadata": {
    "collapsed": false
   }
  },
  {
   "cell_type": "markdown",
   "source": [
    "## 6.监测指标 ≥【普通阈值】\t监测指标 ≥【高危阈值】"
   ],
   "metadata": {
    "collapsed": false
   }
  },
  {
   "cell_type": "code",
   "execution_count": 130,
   "outputs": [
    {
     "name": "stderr",
     "output_type": "stream",
     "text": [
      "/var/folders/21/r5tywv_91vz_8s1tgrs4qpjm0000gn/T/ipykernel_17714/1512628520.py:1: SettingWithCopyWarning: \n",
      "A value is trying to be set on a copy of a slice from a DataFrame.\n",
      "Try using .loc[row_indexer,col_indexer] = value instead\n",
      "\n",
      "See the caveats in the documentation: https://pandas.pydata.org/pandas-docs/stable/user_guide/indexing.html#returning-a-view-versus-a-copy\n",
      "  df_category_6['is_high_trigger'] = np.where(df_category_6['finnal_value'] >= df_category_6['high_trigger'], True, False)\n",
      "/var/folders/21/r5tywv_91vz_8s1tgrs4qpjm0000gn/T/ipykernel_17714/1512628520.py:2: SettingWithCopyWarning: \n",
      "A value is trying to be set on a copy of a slice from a DataFrame.\n",
      "Try using .loc[row_indexer,col_indexer] = value instead\n",
      "\n",
      "See the caveats in the documentation: https://pandas.pydata.org/pandas-docs/stable/user_guide/indexing.html#returning-a-view-versus-a-copy\n",
      "  df_category_6['is_general_trigger'] = np.where(df_category_6['finnal_value'] >= df_category_6['general_trigger'], True, False)\n"
     ]
    }
   ],
   "source": [
    "df_category_6['is_high_trigger'] = np.where(df_category_6['finnal_value'] >= df_category_6['high_trigger'], True, False)\n",
    "df_category_6['is_general_trigger'] = np.where(df_category_6['finnal_value'] >= df_category_6['general_trigger'], True, False)"
   ],
   "metadata": {
    "collapsed": false
   }
  },
  {
   "cell_type": "markdown",
   "source": [
    "## 7.连续三年下降:"
   ],
   "metadata": {
    "collapsed": false
   }
  },
  {
   "cell_type": "code",
   "execution_count": 131,
   "outputs": [],
   "source": [
    "# 更新判断\n",
    "# 将去年与前年同期值merge到数据中，便于执行判断\n",
    "lst = ['entity_name',\n",
    "       'QW_REVENUE_GROWTH_2',\n",
    "       'QW_PERFORMANCE_RATIO_DELTA_2',\n",
    "       'QW_PROFIT_GROWTH_2',\n",
    "       'QW_OPERATINGCASHFLOW_GROWTH_2',\n",
    "       'QW_ROE_DELTA_2',\n",
    "       'QW_REVENUECASH_RATIO_DELTA_2',\n",
    "       'QW_NETPROFITCUT_GROWTH_2',\n",
    "       'QW_INVENTORYTURNOVER_DELTA_2',\n",
    "       'QW_ACCOUNTSRECEIVABLETURNOVER_DELTA_2',\n",
    "       'QW_RANGE_REVENUE_GROWTH_2',\n",
    "       'QW_RANGE_PERFORMANCE_RATIO_DELTA_2',\n",
    "       'QW_RANGE_PROFIT_GROWTH_2',\n",
    "       'QW_RANGE_OPERATINGCASHFLOW_GROWTH_2',\n",
    "       'QW_RANGE_ROE_DELTA_2',\n",
    "       'QW_RANGE_REVENUECASH_RATIO_DELTA_2',\n",
    "       'QW_RANGE_NETPROFITCUT_GROWTH_2',\n",
    "       'QW_RANGE_INVENTORYTURNOVER_DELTA_2',\n",
    "       'QW_RANGE_ACCOUNTSRECEIVABLETURNOVER_DELTA_2',\n",
    "       'QW_TOTALASSETTURNOVER_DELTA_2']\n",
    "\n",
    "df7_merge1 = df_data_clean[lst].loc[(df_data_clean['year'] == year_cmp - 1) & (df_data_clean['季度'] == quarter_cmp)]\n",
    "df7_merge2 = df_data_clean[lst].loc[(df_data_clean['year'] == year_cmp - 2) & (df_data_clean['季度'] == quarter_cmp)]\n",
    "df7_merge1 = pd.melt(df7_merge1,\n",
    "                     id_vars=df7_merge1.columns[:1],\n",
    "                     value_vars=df7_merge1.columns[1:],\n",
    "                     var_name='indicators',\n",
    "                     value_name='finnal_value_lag')\n",
    "df7_merge2 = pd.melt(df7_merge2,\n",
    "                     id_vars=df7_merge2.columns[:1],\n",
    "                     value_vars=df7_merge2.columns[1:],\n",
    "                     var_name='indicators',\n",
    "                     value_name='finnal_value_btlag')\n",
    "df_category_7 = pd.merge(df_category_7, df7_merge1, how='left', on=['entity_name', 'indicators'])\n",
    "df_category_7 = pd.merge(df_category_7, df7_merge2, how='left', on=['entity_name', 'indicators'])\n",
    "df_category_7 = df_category_7.sort_values(by=[\"indicators\", \"entity_name\", \"year\", \"季度\", \"code\"]).reset_index()\n",
    "df_category_7.rename(columns={'finnal_value_lag_x':'finnal_value_lag',\n",
    "                              'finnal_value_btlag_x':'finnal_value_btlag'},\n",
    "                     inplace=True)\n",
    "\n",
    "df_category_7['is_high_trigger'] = np.where((df_category_7['finnal_value'] <= df_category_7['high_trigger']) &\n",
    "                                            (df_category_7['finnal_value'] < df_category_7['finnal_value_lag']) &\n",
    "                                            (df_category_7['finnal_value_lag'] < df_category_7['finnal_value_btlag']), True, False)\n",
    "\n",
    "df_category_7['is_general_trigger'] = np.where((df_category_7['finnal_value'] <= df_category_7['general_trigger']) &\n",
    "                                            (df_category_7['finnal_value'] < df_category_7['finnal_value_lag']) &\n",
    "                                            (df_category_7['finnal_value_lag'] < df_category_7['finnal_value_btlag']), True, False)\n",
    "\n",
    "df_category_7 = df_category_7[[\"entity_name\", \"stock_code\", \"industry_whitewash\", \"year\", \"季度\", \"code\", \"finnal_value\", 'general_trigger','high_trigger', \"category\", \"is_high_trigger\", \"is_general_trigger\"]]"
   ],
   "metadata": {
    "collapsed": false
   }
  },
  {
   "cell_type": "markdown",
   "source": [
    "## 8.连续三年上升"
   ],
   "metadata": {
    "collapsed": false
   }
  },
  {
   "cell_type": "code",
   "execution_count": 132,
   "outputs": [],
   "source": [
    "# 更新判断\n",
    "# 将去年与前年同期值merge到数据中，便于执行判断\n",
    "lst = ['entity_name',\n",
    "       'QW_PERIODEXPENSE_DELTA_2',\n",
    "       'QW_NONRECURRENT_RATIO_DELTA_2',\n",
    "       'QW_RANGE_PERIODEXPENSE_DELTA_2']\n",
    "\n",
    "df8_merge1 = df_data_clean[lst].loc[(df_data_clean['year'] == year_cmp - 1) & (df_data_clean['季度'] == quarter_cmp)]\n",
    "df8_merge2 = df_data_clean[lst].loc[(df_data_clean['year'] == year_cmp - 2) & (df_data_clean['季度'] == quarter_cmp)]\n",
    "df8_merge1 = pd.melt(df8_merge1,\n",
    "                     id_vars=df8_merge1.columns[:1],\n",
    "                     value_vars=df8_merge1.columns[1:],\n",
    "                     var_name='indicators',\n",
    "                     value_name='finnal_value_lag')\n",
    "df8_merge2 = pd.melt(df8_merge2,\n",
    "                     id_vars=df8_merge2.columns[:1],\n",
    "                     value_vars=df8_merge2.columns[1:],\n",
    "                     var_name='indicators',\n",
    "                     value_name='finnal_value_btlag')\n",
    "df_category_8 = pd.merge(df_category_8, df8_merge1, how='left', on=['entity_name', 'indicators'])\n",
    "df_category_8 = pd.merge(df_category_8, df8_merge2, how='left', on=['entity_name', 'indicators'])\n",
    "df_category_8 = df_category_8.sort_values(by=[\"indicators\", \"entity_name\", \"year\", \"季度\", \"code\"]).reset_index()\n",
    "df_category_8.rename(columns={'finnal_value_lag_x':'finnal_value_lag',\n",
    "                              'finnal_value_btlag_x':'finnal_value_btlag'},\n",
    "                     inplace=True)\n",
    "\n",
    "df_category_8['is_high_trigger'] = np.where((df_category_8['finnal_value'] >= df_category_8['high_trigger']) &\n",
    "                                            (df_category_8['finnal_value'] > df_category_8['finnal_value_lag']) &\n",
    "                                            (df_category_8['finnal_value_lag'] > df_category_8['finnal_value_btlag']), True, False)\n",
    "\n",
    "df_category_8['is_general_trigger'] = np.where((df_category_8['finnal_value'] >= df_category_8['general_trigger']) &\n",
    "                                               (df_category_8['finnal_value'] > df_category_8['finnal_value_lag']) &\n",
    "                                               (df_category_8['finnal_value_lag'] > df_category_8['finnal_value_btlag']), True, False)\n",
    "\n",
    "df_category_8 = df_category_8[[\"entity_name\", \"stock_code\", \"industry_whitewash\", \"year\", \"季度\", \"code\", \"finnal_value\", 'general_trigger','high_trigger', \"category\", \"is_high_trigger\", \"is_general_trigger\"]]"
   ],
   "metadata": {
    "collapsed": false
   }
  },
  {
   "cell_type": "markdown",
   "source": [
    "## 9.毛利率单判断 < —— 已查"
   ],
   "metadata": {
    "collapsed": false
   }
  },
  {
   "cell_type": "code",
   "execution_count": 133,
   "outputs": [
    {
     "name": "stderr",
     "output_type": "stream",
     "text": [
      "/var/folders/21/r5tywv_91vz_8s1tgrs4qpjm0000gn/T/ipykernel_17714/3283782702.py:2: SettingWithCopyWarning: \n",
      "A value is trying to be set on a copy of a slice from a DataFrame\n",
      "\n",
      "See the caveats in the documentation: https://pandas.pydata.org/pandas-docs/stable/user_guide/indexing.html#returning-a-view-versus-a-copy\n",
      "  temp.rename(columns={\n",
      "/var/folders/21/r5tywv_91vz_8s1tgrs4qpjm0000gn/T/ipykernel_17714/3283782702.py:7: SettingWithCopyWarning: \n",
      "A value is trying to be set on a copy of a slice from a DataFrame\n",
      "\n",
      "See the caveats in the documentation: https://pandas.pydata.org/pandas-docs/stable/user_guide/indexing.html#returning-a-view-versus-a-copy\n",
      "  temp.judge[temp.judge == 'QW_GROSSPROFITMARGIN'] = 0\n",
      "/var/folders/21/r5tywv_91vz_8s1tgrs4qpjm0000gn/T/ipykernel_17714/3283782702.py:7: SettingWithCopyWarning: \n",
      "A value is trying to be set on a copy of a slice from a DataFrame\n",
      "\n",
      "See the caveats in the documentation: https://pandas.pydata.org/pandas-docs/stable/user_guide/indexing.html#returning-a-view-versus-a-copy\n",
      "  temp.judge[temp.judge == 'QW_GROSSPROFITMARGIN'] = 0\n",
      "/var/folders/21/r5tywv_91vz_8s1tgrs4qpjm0000gn/T/ipykernel_17714/3283782702.py:8: SettingWithCopyWarning: \n",
      "A value is trying to be set on a copy of a slice from a DataFrame\n",
      "\n",
      "See the caveats in the documentation: https://pandas.pydata.org/pandas-docs/stable/user_guide/indexing.html#returning-a-view-versus-a-copy\n",
      "  temp.judge[temp.judge == 'QW_RANGE_GROSSPROFITMARGIN'] = 1\n",
      "/var/folders/21/r5tywv_91vz_8s1tgrs4qpjm0000gn/T/ipykernel_17714/3283782702.py:8: SettingWithCopyWarning: \n",
      "A value is trying to be set on a copy of a slice from a DataFrame\n",
      "\n",
      "See the caveats in the documentation: https://pandas.pydata.org/pandas-docs/stable/user_guide/indexing.html#returning-a-view-versus-a-copy\n",
      "  temp.judge[temp.judge == 'QW_RANGE_GROSSPROFITMARGIN'] = 1\n",
      "/var/folders/21/r5tywv_91vz_8s1tgrs4qpjm0000gn/T/ipykernel_17714/3283782702.py:10: SettingWithCopyWarning: \n",
      "A value is trying to be set on a copy of a slice from a DataFrame.\n",
      "Try using .loc[row_indexer,col_indexer] = value instead\n",
      "\n",
      "See the caveats in the documentation: https://pandas.pydata.org/pandas-docs/stable/user_guide/indexing.html#returning-a-view-versus-a-copy\n",
      "  df_category_9['judge'] = np.where(df_category_9['indicators'].str.contains('RANGE'), 1, 0)\n"
     ]
    }
   ],
   "source": [
    "temp = df_category_0[['entity_name', 'year', '季度', 'indicators', 'is_general_trigger']]\n",
    "temp.rename(columns={\n",
    "    'indicators': 'judge',\n",
    "    \"is_general_trigger\": \"is_negative\"},\n",
    "    inplace=True)\n",
    "\n",
    "temp.judge[temp.judge == 'QW_GROSSPROFITMARGIN'] = 0\n",
    "temp.judge[temp.judge == 'QW_RANGE_GROSSPROFITMARGIN'] = 1\n",
    "\n",
    "df_category_9['judge'] = np.where(df_category_9['indicators'].str.contains('RANGE'), 1, 0)\n",
    "\n",
    "df_category_9 = pd.merge(df_category_9, temp, on=['entity_name','year','季度','judge'], how='left')\n",
    "\n",
    "df_category_9['is_high_trigger'] = np.where((df_category_9['finnal_value'] <= df_category_9['high_trigger']) & (df_category_9['is_negative'] != True), True, False)\n",
    "\n",
    "df_category_9['is_general_trigger'] = np.where((df_category_9['finnal_value'] <= df_category_9['general_trigger']) & (df_category_9['is_negative'] != True), True, False)\n",
    "\n",
    "df_category_9.drop(columns = ['is_negative', 'judge'], inplace=True)"
   ],
   "metadata": {
    "collapsed": false
   }
  },
  {
   "cell_type": "markdown",
   "source": [
    "## 10.毛利率单判断 > —— 已查"
   ],
   "metadata": {
    "collapsed": false
   }
  },
  {
   "cell_type": "code",
   "execution_count": 134,
   "outputs": [
    {
     "name": "stderr",
     "output_type": "stream",
     "text": [
      "/var/folders/21/r5tywv_91vz_8s1tgrs4qpjm0000gn/T/ipykernel_17714/315397138.py:1: SettingWithCopyWarning: \n",
      "A value is trying to be set on a copy of a slice from a DataFrame.\n",
      "Try using .loc[row_indexer,col_indexer] = value instead\n",
      "\n",
      "See the caveats in the documentation: https://pandas.pydata.org/pandas-docs/stable/user_guide/indexing.html#returning-a-view-versus-a-copy\n",
      "  df_category_10['judge']=np.where(df_category_10['indicators'].str.contains('RANGE'), 1,0)\n"
     ]
    }
   ],
   "source": [
    "df_category_10['judge']=np.where(df_category_10['indicators'].str.contains('RANGE'), 1,0)\n",
    "\n",
    "df_category_10 = pd.merge(df_category_10,temp,on=['entity_name','year','季度','judge'],how='left')\n",
    "df_category_10['is_high_trigger'] = np.where((df_category_10['finnal_value'] >= df_category_10['high_trigger']) & (df_category_10['is_negative'] != True) , True, False)\n",
    "df_category_10['is_general_trigger'] = np.where((df_category_10['finnal_value'] >= df_category_10['general_trigger']) & (df_category_10['is_negative'] != True), True, False)\n",
    "df_category_10.drop(columns = ['is_negative','judge'],inplace=True)"
   ],
   "metadata": {
    "collapsed": false
   }
  },
  {
   "cell_type": "markdown",
   "source": [
    "## 11.毛利率双重判断 <"
   ],
   "metadata": {
    "collapsed": false
   }
  },
  {
   "cell_type": "code",
   "execution_count": 135,
   "outputs": [
    {
     "name": "stderr",
     "output_type": "stream",
     "text": [
      "/var/folders/21/r5tywv_91vz_8s1tgrs4qpjm0000gn/T/ipykernel_17714/852850298.py:2: SettingWithCopyWarning: \n",
      "A value is trying to be set on a copy of a slice from a DataFrame\n",
      "\n",
      "See the caveats in the documentation: https://pandas.pydata.org/pandas-docs/stable/user_guide/indexing.html#returning-a-view-versus-a-copy\n",
      "  temp.rename(columns= {\n"
     ]
    }
   ],
   "source": [
    "temp = df_category_0[['entity_name', 'year', '季度', 'indicators', 'is_general_trigger']]\n",
    "temp.rename(columns= {\n",
    "    \"is_general_trigger\": \"is_negative\"\n",
    "    }, inplace= True)\n",
    "temp = temp.loc[temp['indicators'] == 'QW_GROSSPROFITMARGIN'].drop(columns = 'indicators')\n",
    "\n",
    "temp2 = df_category_9[['entity_name', 'year', '季度', 'indicators', 'is_general_trigger']]\n",
    "temp2 = temp2.loc[(temp2['indicators'] == 'QW_RANGE_GROSSPROFITMARGIN_GROWTH') | (temp2['indicators'] == 'QW_RANGE_GROSSPROFITMARGIN_DELTA')]\n",
    "temp2.rename(columns = {\n",
    "    'indicators': 'judge',\n",
    "    \"is_general_trigger\": \"is_change\"\n",
    "    }, inplace=True)\n",
    "\n",
    "df_category_11['judge'] = np.where(df_category_11['indicators'].str.contains('GROWTH'), 'QW_RANGE_GROSSPROFITMARGIN_GROWTH','QW_RANGE_GROSSPROFITMARGIN_DELTA')\n",
    "df_category_11 = pd.merge(df_category_11, temp, on=['entity_name', 'year', '季度'], how='left')\n",
    "df_category_11 = pd.merge(df_category_11, temp2, on=['entity_name', 'year', '季度', 'judge'], how='left')\n",
    "\n",
    "\n",
    "df_category_11['is_high_trigger'] = np.where((df_category_11['finnal_value'] <= df_category_11['high_trigger']) & (df_category_11['is_negative'] != True) & (df_category_11['is_change'] != True), True, False)\n",
    "\n",
    "df_category_11['is_general_trigger'] = np.where((df_category_11['finnal_value'] <= df_category_11['general_trigger']) & (df_category_11['is_negative'] != True)& (df_category_11['is_change'] != True), True, False)\n",
    "\n",
    "df_category_11.drop(columns = ['is_negative', 'is_change', 'judge'], inplace=True)"
   ],
   "metadata": {
    "collapsed": false
   }
  },
  {
   "cell_type": "markdown",
   "source": [
    "## 12.毛利率双重判断 >"
   ],
   "metadata": {
    "collapsed": false
   }
  },
  {
   "cell_type": "code",
   "execution_count": 136,
   "outputs": [],
   "source": [
    "temp2 = df_category_10[['entity_name', 'year', '季度', 'indicators', 'is_general_trigger']]\n",
    "temp2 = temp2.loc[temp2['indicators'] == 'QW_RANGE_GROSSPROFITMARGIN_DELTA'].drop(columns = 'indicators')\n",
    "\n",
    "df_category_12 = pd.merge(df_category_12,temp, on=['entity_name', 'year', '季度'], how='left')\n",
    "df_category_12 = pd.merge(df_category_12,temp2, on=['entity_name', 'year', '季度'], how='left')\n",
    "\n",
    "df_category_12['is_high_trigger'] = np.where((df_category_12['finnal_value'] >= df_category_12['high_trigger']) & (df_category_12['is_negative'] != True) & (df_category_12['is_general_trigger'] != True), True, False)\n",
    "\n",
    "df_category_12['is_general_trigger'] = np.where((df_category_12['finnal_value'] >= df_category_12['general_trigger']) & (df_category_12['is_negative'] != True)& (df_category_12['is_general_trigger'] != True), True, False)\n",
    "\n",
    "df_category_12.drop(columns = ['is_negative', 'is_general_trigger'], inplace=True)"
   ],
   "metadata": {
    "collapsed": false
   }
  },
  {
   "cell_type": "markdown",
   "source": [
    "# 数据整合"
   ],
   "metadata": {
    "collapsed": false
   }
  },
  {
   "cell_type": "code",
   "execution_count": 137,
   "outputs": [],
   "source": [
    "df_data_threshold = pd.concat([df_category_0, df_category_1, df_category_2, df_category_3, df_category_4, df_category_5, df_category_6,df_category_7,df_category_8,df_category_9, df_category_10, df_category_11, df_category_12])\n",
    "\n",
    "df_data_threshold['is_trigger'] = np.where(df_data_threshold['is_high_trigger'] == True, 2,\n",
    "                                  np.where(df_data_threshold['is_general_trigger'] == True, 1,\n",
    "                                           0))"
   ],
   "metadata": {
    "collapsed": false
   }
  },
  {
   "cell_type": "markdown",
   "source": [
    "# 数据缓存（指标异常值处理前）"
   ],
   "metadata": {
    "collapsed": false
   }
  },
  {
   "cell_type": "code",
   "execution_count": 138,
   "outputs": [],
   "source": [
    "# df_data_threshold.to_excel('指标异常值处理前触发结果.xlsx')\n",
    "df_data_threshold.drop(columns=['is_high_trigger','category','is_general_trigger'],inplace= True)\n",
    "df_data_threshold['is_trigger_origin']=df_data_threshold['is_trigger']\n"
   ],
   "metadata": {
    "collapsed": false
   }
  },
  {
   "cell_type": "markdown",
   "source": [
    "# 指标异常值处理-数据清洗"
   ],
   "metadata": {
    "collapsed": false
   }
  },
  {
   "cell_type": "code",
   "execution_count": 139,
   "outputs": [],
   "source": [
    "# 指标异常值处理规则字段导入\n",
    "formu = pd.read_excel(path_input+\"触发判断数据字典.xlsx\")\n",
    "# 指标异常值处理判断所需底层科目数据\n",
    "caiwu= pd.read_csv(input_df1)\n",
    "# 提取指标异常值处理所需的财务指标\n",
    "df_data_clean.drop(columns=[\"code\",\"industry\"],inplace=True)\n",
    "df_data_clean.rename(columns= {\n",
    "    \"entity_name\": \"BASIC_entity_name\",\n",
    "    \"year\": \"BASIC_year\",\n",
    "    \"季度\": \"BASIC_quarter\"\n",
    "    }, inplace= True)\n",
    "zhibiao = df_data_clean\n",
    "\n",
    "lst = ['BASIC_entity_name','BASIC_year','BASIC_quarter','QW_ACCOUNTSRECEIVABLETURNOVER_DELTA','QW_CASH_RATIO_DELTA','QW_GROSSPROFITMARGIN','QW_GROSSPROFITMARGIN_DELTA',\t'QW_INTERESTCOVERAGE_DELTA',\t'QW_INVENTORYTURNOVER_DELTA',\t'QW_OPERATINGCASHFLOW',\t'QW_PERFORMANCE_RATIO_DELTA',\t'QW_PERIODEXPENSE_DELTA',\t'QW_QUICK_RATIO_DELTA',\t'QW_RESTRICTEDFUNDS_RATIO_DELTA',\t'QW_REVENUE_GROWTH',\t'QW_REVENUECASH_RATIO_DELTA',\t'QW_ROE_DELTA',\t'QW_TOTALASSETTURNOVER_DELTA','QW_RANGE_ACCOUNTSRECEIVABLETURNOVER_DELTA', 'QW_RANGE_GROSSPROFITMARGIN', 'QW_RANGE_INVENTORYTURNOVER_DELTA', 'QW_RANGE_OPERATINGCASHFLOW', 'QW_RANGE_PERIODEXPENSE_DELTA', 'QW_RANGE_REVENUECASH_RATIO_DELTA', 'QW_RANGE_ROE_DELTA']\n",
    "lst = [variable for variable in lst if variable in list(zhibiao)]\n",
    "\n",
    "\n",
    "zhibiao =zhibiao[lst]\n",
    "# 如若上一行报错，则可能是因为以下指标缺失，需要修改代码从上一行中删除缺失的指标：'QW_RANGE_ACCOUNTSRECEIVABLETURNOVER_DELTA', 'QW_RANGE_GROSSPROFITMARGIN', 'QW_RANGE_INVENTORYTURNOVER_DELTA', 'QW_RANGE_OPERATINGCASHFLOW', 'QW_RANGE_PERIODEXPENSE_DELTA', 'QW_RANGE_REVENUECASH_RATIO_DELTA', 'QW_RANGE_ROE_DELTA'\n",
    "\n",
    "\n",
    "# 筛选财务数据所需的年份\n",
    "df_greater_2018 = caiwu[caiwu.BASIC_year > year_cmp-3]\n",
    "\n",
    "# Reorder the dataframe\n",
    "df2 = df_greater_2018.sort_values(\n",
    "    by=[\"BASIC_entity_name\", \"BASIC_industry\", \"BASIC_year\", \"BASIC_quarter\", \"code\", \"end_value\"])\n",
    "\n",
    "# Replace duplicate observations by using the observation before\n",
    "df3 = df2.drop_duplicates(\n",
    "    subset=[\"BASIC_entity_name\", \"BASIC_year\", \"BASIC_quarter\", \"code\"], keep='first') #保留存在的值\n",
    "\n",
    "# Long to wide (use indicators as column name)\n",
    "df4 = df3.pivot(index=[\"BASIC_entity_name\",\"BASIC_year\", \"BASIC_quarter\"], #以主体划分\n",
    "                columns=\"code\",\n",
    "                values=\"end_value\").reset_index()\n",
    "df5 = df4[[\"BASIC_entity_name\", \"BASIC_year\", \"BASIC_quarter\",'BS_0101','BS_0102',\t'BS_0104',\t'BS_0105',\t'BS_0109',\t'BS_0191',\t'BS_0299',\t'BS_0391',\t'BS_0591','CF_0105',\t'CF_0145',\t'PF_0102','PF_0107','PF_0116','PF_0117','PF_0118','PF_0118_1'\t,'PF_0129',\t'PF_0132',\t'stmnote_Eoitems_24']]\n",
    "# 若有科目缺失，上一行这里会报错，需要修改删去缺失的科目\n",
    "\n",
    "trig = pd.merge(df5,zhibiao,how='inner',on=[\"BASIC_entity_name\", \"BASIC_year\", \"BASIC_quarter\"])\n",
    "#得到trig：用于指标异常值处理作为判断的数据\n",
    "\n",
    "\n",
    "#读取之前触发后的数据\n",
    "df = df_data_threshold[['entity_name','year','季度','code','is_trigger_origin','is_trigger']]\n",
    "df.columns=[\"BASIC_entity_name\", \"BASIC_year\", \"BASIC_quarter\", \"项目代码\",'is_trigger_origin','is_trigger']\n",
    "df = df.sort_values(\n",
    "    by=[\"BASIC_entity_name\", \"BASIC_year\", \"BASIC_quarter\", \"项目代码\"])\n",
    "\n",
    "formu = formu[['项目代码','指标异常值处理']]\n",
    "df=pd.merge(df,formu, how='left',on='项目代码')\n"
   ],
   "metadata": {
    "collapsed": false
   }
  },
  {
   "cell_type": "markdown",
   "source": [
    "# 指标异常值处理-判断部分"
   ],
   "metadata": {
    "collapsed": false
   }
  },
  {
   "cell_type": "code",
   "execution_count": 140,
   "outputs": [
    {
     "name": "stderr",
     "output_type": "stream",
     "text": [
      "/var/folders/21/r5tywv_91vz_8s1tgrs4qpjm0000gn/T/ipykernel_17714/295652640.py:9: FutureWarning: The default value of regex will change from True to False in a future version.\n",
      "  work = work.str.replace(\"如果|\\【|\\】|\\，则此项不触发|\\，则指标为N/A\\，不触发项目|\\，则指标为99999\\，此项不触发\\，后期展示阶段特殊标注\",\"\")\n",
      "/var/folders/21/r5tywv_91vz_8s1tgrs4qpjm0000gn/T/ipykernel_17714/295652640.py:9: FutureWarning: The default value of regex will change from True to False in a future version.\n",
      "  work = work.str.replace(\"如果|\\【|\\】|\\，则此项不触发|\\，则指标为N/A\\，不触发项目|\\，则指标为99999\\，此项不触发\\，后期展示阶段特殊标注\",\"\")\n",
      "/var/folders/21/r5tywv_91vz_8s1tgrs4qpjm0000gn/T/ipykernel_17714/295652640.py:9: FutureWarning: The default value of regex will change from True to False in a future version.\n",
      "  work = work.str.replace(\"如果|\\【|\\】|\\，则此项不触发|\\，则指标为N/A\\，不触发项目|\\，则指标为99999\\，此项不触发\\，后期展示阶段特殊标注\",\"\")\n",
      "/var/folders/21/r5tywv_91vz_8s1tgrs4qpjm0000gn/T/ipykernel_17714/295652640.py:9: FutureWarning: The default value of regex will change from True to False in a future version.\n",
      "  work = work.str.replace(\"如果|\\【|\\】|\\，则此项不触发|\\，则指标为N/A\\，不触发项目|\\，则指标为99999\\，此项不触发\\，后期展示阶段特殊标注\",\"\")\n",
      "/var/folders/21/r5tywv_91vz_8s1tgrs4qpjm0000gn/T/ipykernel_17714/295652640.py:9: FutureWarning: The default value of regex will change from True to False in a future version.\n",
      "  work = work.str.replace(\"如果|\\【|\\】|\\，则此项不触发|\\，则指标为N/A\\，不触发项目|\\，则指标为99999\\，此项不触发\\，后期展示阶段特殊标注\",\"\")\n",
      "/var/folders/21/r5tywv_91vz_8s1tgrs4qpjm0000gn/T/ipykernel_17714/295652640.py:9: FutureWarning: The default value of regex will change from True to False in a future version.\n",
      "  work = work.str.replace(\"如果|\\【|\\】|\\，则此项不触发|\\，则指标为N/A\\，不触发项目|\\，则指标为99999\\，此项不触发\\，后期展示阶段特殊标注\",\"\")\n",
      "/var/folders/21/r5tywv_91vz_8s1tgrs4qpjm0000gn/T/ipykernel_17714/295652640.py:9: FutureWarning: The default value of regex will change from True to False in a future version.\n",
      "  work = work.str.replace(\"如果|\\【|\\】|\\，则此项不触发|\\，则指标为N/A\\，不触发项目|\\，则指标为99999\\，此项不触发\\，后期展示阶段特殊标注\",\"\")\n",
      "/var/folders/21/r5tywv_91vz_8s1tgrs4qpjm0000gn/T/ipykernel_17714/295652640.py:9: FutureWarning: The default value of regex will change from True to False in a future version.\n",
      "  work = work.str.replace(\"如果|\\【|\\】|\\，则此项不触发|\\，则指标为N/A\\，不触发项目|\\，则指标为99999\\，此项不触发\\，后期展示阶段特殊标注\",\"\")\n",
      "/var/folders/21/r5tywv_91vz_8s1tgrs4qpjm0000gn/T/ipykernel_17714/295652640.py:9: FutureWarning: The default value of regex will change from True to False in a future version.\n",
      "  work = work.str.replace(\"如果|\\【|\\】|\\，则此项不触发|\\，则指标为N/A\\，不触发项目|\\，则指标为99999\\，此项不触发\\，后期展示阶段特殊标注\",\"\")\n",
      "/var/folders/21/r5tywv_91vz_8s1tgrs4qpjm0000gn/T/ipykernel_17714/295652640.py:9: FutureWarning: The default value of regex will change from True to False in a future version.\n",
      "  work = work.str.replace(\"如果|\\【|\\】|\\，则此项不触发|\\，则指标为N/A\\，不触发项目|\\，则指标为99999\\，此项不触发\\，后期展示阶段特殊标注\",\"\")\n",
      "/var/folders/21/r5tywv_91vz_8s1tgrs4qpjm0000gn/T/ipykernel_17714/295652640.py:9: FutureWarning: The default value of regex will change from True to False in a future version.\n",
      "  work = work.str.replace(\"如果|\\【|\\】|\\，则此项不触发|\\，则指标为N/A\\，不触发项目|\\，则指标为99999\\，此项不触发\\，后期展示阶段特殊标注\",\"\")\n",
      "/var/folders/21/r5tywv_91vz_8s1tgrs4qpjm0000gn/T/ipykernel_17714/295652640.py:9: FutureWarning: The default value of regex will change from True to False in a future version.\n",
      "  work = work.str.replace(\"如果|\\【|\\】|\\，则此项不触发|\\，则指标为N/A\\，不触发项目|\\，则指标为99999\\，此项不触发\\，后期展示阶段特殊标注\",\"\")\n",
      "/var/folders/21/r5tywv_91vz_8s1tgrs4qpjm0000gn/T/ipykernel_17714/295652640.py:9: FutureWarning: The default value of regex will change from True to False in a future version.\n",
      "  work = work.str.replace(\"如果|\\【|\\】|\\，则此项不触发|\\，则指标为N/A\\，不触发项目|\\，则指标为99999\\，此项不触发\\，后期展示阶段特殊标注\",\"\")\n"
     ]
    },
    {
     "name": "stdout",
     "output_type": "stream",
     "text": [
      "end\n"
     ]
    }
   ],
   "source": [
    "tfset = df['项目代码']\n",
    "spl = df['指标异常值处理'].str.split('or|and|\\；',expand = True, n=1) #将规则文字按逻辑切割曾多个层级，分部判断T/F\n",
    "alist = list(trig.columns)[3:]\n",
    "p = 0 # 处理的规则字段层级\n",
    "\n",
    "while spl.empty == False:\n",
    "    work = spl[0]\n",
    "    # 处理work里的字符串\n",
    "    work = work.str.replace(\"如果|\\【|\\】|\\，则此项不触发|\\，则指标为N/A\\，不触发项目|\\，则指标为99999\\，此项不触发\\，后期展示阶段特殊标注\",\"\")\n",
    "    part = work.str.split('\\<|\\>',expand = True)[0]\n",
    "\n",
    "    k = 0 # 行数\n",
    "    for i in part:  # 一行行处理数据\n",
    "        if (i == i) & (i != None) & (df['is_trigger'][k] != 0):  # 判断是不是float'nan'且触发了，不是就跳过运算，节约时间\n",
    "            for st in alist:  # 一个个匹配指标替换\n",
    "                if st in str(i):\n",
    "                    # 检查是否有lag，last：\n",
    "                        # 先btlag后lag\n",
    "                    try:\n",
    "                        # 以下是对指标取过去值的不同处理\n",
    "                        if 'btlag('+st in str(i):\n",
    "                            # 索引到trig中的数据，\n",
    "                            x = trig[st].loc[(trig['BASIC_entity_name'] == df['BASIC_entity_name'][k]) & (\n",
    "                                        trig['BASIC_year'] == df['BASIC_year'][k]-2) & (\n",
    "                                                         trig['BASIC_quarter'] == df['BASIC_quarter'][k])]\n",
    "                            data = x.to_string(index=False)\n",
    "                            work[k] = work[k].replace('btlag('+st+')', data)\n",
    "                        if 'lag('+st in str(i):\n",
    "                            # 索引到trig中的数据，\n",
    "                            x = trig[st].loc[(trig['BASIC_entity_name'] == df['BASIC_entity_name'][k]) & (\n",
    "                                        trig['BASIC_year'] == df['BASIC_year'][k]-1) & (\n",
    "                                                         trig['BASIC_quarter'] == df['BASIC_quarter'][k])]\n",
    "                            data = x.to_string(index=False)\n",
    "                            work[k] = work[k].replace('lag('+st+')', data)\n",
    "                        if 'ylast('+st in str(i):\n",
    "                            # 索引到trig中的数据，\n",
    "                            if df['BASIC_quarter'][k]==1:\n",
    "                                x = trig[st].loc[(trig['BASIC_entity_name'] == df['BASIC_entity_name'][k]) & (\n",
    "                                            trig['BASIC_year'] == df['BASIC_year'][k]-1) & (\n",
    "                                                             trig['BASIC_quarter'] == df['BASIC_quarter'][k]+3)]\n",
    "                            else:\n",
    "                                x = trig[st].loc[(trig['BASIC_entity_name'] == df['BASIC_entity_name'][k]) & (\n",
    "                                        trig['BASIC_year'] == df['BASIC_year'][k]) & (\n",
    "                                                         trig['BASIC_quarter'] == df['BASIC_quarter'][k]-1)]\n",
    "                            data = x.to_string(index=False)\n",
    "                            work[k] = work[k].replace('ylast('+st+')', data)\n",
    "                        if 'yblast('+st in str(i):\n",
    "                            # 索引到trig中的数据，\n",
    "                            if df['BASIC_quarter'][k]==1:\n",
    "                                x = trig[st].loc[(trig['BASIC_entity_name'] == df['BASIC_entity_name'][k]) & (\n",
    "                                            trig['BASIC_year'] == df['BASIC_year'][k]-2) & (\n",
    "                                                             trig['BASIC_quarter'] == df['BASIC_quarter'][k]+3)]\n",
    "                            else:\n",
    "                                x = trig[st].loc[(trig['BASIC_entity_name'] == df['BASIC_entity_name'][k]) & (\n",
    "                                        trig['BASIC_year'] == df['BASIC_year'][k]-1) & (\n",
    "                                                         trig['BASIC_quarter'] == df['BASIC_quarter'][k]-1)]\n",
    "                            data = x.to_string(index=False)\n",
    "                            work[k] = work[k].replace('yblast('+st+')', data)\n",
    "                        if 'last('+st in str(i):\n",
    "                            # 索引到trig中的数据，\n",
    "                            if df['BASIC_quarter'][k]==1:\n",
    "                                x = 0\n",
    "                            else:\n",
    "                                x = trig[st].loc[(trig['BASIC_entity_name'] == df['BASIC_entity_name'][k]) & (\n",
    "                                        trig['BASIC_year'] == df['BASIC_year'][k]) & (\n",
    "                                                         trig['BASIC_quarter'] == df['BASIC_quarter'][k]-1)]\n",
    "                            data = x.to_string(index=False)\n",
    "                            work[k] = work[k].replace('last('+st+')', data)\n",
    "\n",
    "                        x= trig[st].loc[(trig['BASIC_entity_name']==df['BASIC_entity_name'][k])&(trig['BASIC_year']==df['BASIC_year'][k])&(trig['BASIC_quarter']==df['BASIC_quarter'][k])]\n",
    "                        data= x.to_string(index = False)\n",
    "                        work[k]=work[k].replace(st, data)\n",
    "                    except:\n",
    "                        work[k] = False\n",
    "                    # 对大于小于进行判断，得到结果Ture/False\n",
    "\n",
    "            try:  # 如果判定所需的指标/财务数据缺失，则不改变结果\n",
    "                work[k] = eval(work[k])\n",
    "            except:\n",
    "                work[k] = False\n",
    "        else:\n",
    "            work[k] = False\n",
    "        k += 1\n",
    "    p +=1\n",
    "    work.name = p\n",
    "    # 将每一层级的结果与指标列拼接\n",
    "    tfset = pd.concat([tfset,work],axis=1)\n",
    "    try:\n",
    "        spl = spl[1].str.split('or|and|；',expand = True, n=1)\n",
    "    except:\n",
    "        spl = pd.DataFrame()\n",
    "        print('end')\n",
    "\n",
    "# 把t，f用1，0替换，求和，大于一则改为不触发\n",
    "\n",
    "# 特殊处理判断文字中包含'and'逻辑的几个指标\n",
    "for idx,row in tfset[tfset['项目代码'].str.contains('PP_009_O0|DID_003_O0|OID_001_Q01|OID_002_Q01|OID_002_Q01')].iterrows():\n",
    "    # print(row['项目代码'].contains('PP_009_O0|DID_003_O0|OID_001_Q01|OID_002_Q01|OID_002_Q01'))\n",
    "    s=1\n",
    "    while s <= p/2:\n",
    "        if row[(2*s-1)] == True and row[(2*s)] == False:\n",
    "            tfset.at[idx,(2 * s - 1)] = False\n",
    "        if row[(2 * s - 1)] == False and row[(2 * s)] == True:\n",
    "            tfset.at[idx,(2 * s )] = False\n",
    "        s+=1\n",
    "tfset.drop(columns='项目代码',inplace=True)\n",
    "\n",
    "# 对先前拆分的判断规则进行整合，总判断\n",
    "tfset.replace(True,int(1),inplace = True)\n",
    "tfset.replace(False,int(0),inplace = True)\n",
    "\n",
    "\n",
    "result = tfset.apply(np.sum,axis=1)\n",
    "\n",
    "\n",
    "df =pd.concat([df,result],axis=1)\n",
    "df[0]= np.where(df[0]>=1,True,False)\n",
    "df.loc[df[0]==True,['is_trigger']]= 0"
   ],
   "metadata": {
    "collapsed": false
   }
  },
  {
   "cell_type": "markdown",
   "source": [
    "# 最终结果整合与导出"
   ],
   "metadata": {
    "collapsed": false
   }
  },
  {
   "cell_type": "code",
   "execution_count": 141,
   "outputs": [],
   "source": [
    "df = pd.merge(df,df_data_comb,how='inner',left_on=[\"BASIC_entity_name\", \"BASIC_year\", \"BASIC_quarter\", \"项目代码\"],right_on=[\"entity_name\", \"year\", \"季度\", \"code\"])\n",
    "df = df.sort_values(\n",
    "    by=[\"BASIC_entity_name\", \"BASIC_year\", \"BASIC_quarter\", \"项目代码\"])\n",
    "df = df[['entity_name','stock_code','industry_whitewash','year','季度','indicators','code','finnal_value','general_trigger','high_trigger','is_trigger_origin','指标异常值处理',0,'is_trigger']]\n",
    "df.columns = ['entity_name','stock_code','industry','year','quarter','indicators','code','finnal_value','general_trigger','high_trigger','is_trigger_origin','指标异常值处理','指标异常值处理结果','is_trigger']\n",
    "\n",
    "df.to_excel(output_df, index=False)"
   ],
   "metadata": {
    "collapsed": false
   }
  }
 ],
 "metadata": {
  "kernelspec": {
   "display_name": "Python 3",
   "language": "python",
   "name": "python3"
  },
  "language_info": {
   "codemirror_mode": {
    "name": "ipython",
    "version": 2
   },
   "file_extension": ".py",
   "mimetype": "text/x-python",
   "name": "python",
   "nbconvert_exporter": "python",
   "pygments_lexer": "ipython2",
   "version": "2.7.6"
  }
 },
 "nbformat": 4,
 "nbformat_minor": 0
}
